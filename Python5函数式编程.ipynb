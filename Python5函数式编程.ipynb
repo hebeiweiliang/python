{
 "cells": [
  {
   "cell_type": "markdown",
   "metadata": {},
   "source": [
    "# 函数式编程\n",
    "函数式编程是一种编程风格（顾明思议）是基于函数的。  \n",
    "函数式编程的关键部分是** 高阶函数** 。上一课中，我们已经将这个想法简单的看作是对象的功能。高阶函数将其他函数作为参数，或将其作为结果返回。"
   ]
  },
  {
   "cell_type": "code",
   "execution_count": 1,
   "metadata": {},
   "outputs": [
    {
     "name": "stdout",
     "output_type": "stream",
     "text": [
      "20\n"
     ]
    }
   ],
   "source": [
    "def apply_twice(func, arg): # 在其内部调用两次add_five，以另一个函数作为参数\n",
    "    return func(func(arg))\n",
    "\n",
    "def add_five(x):\n",
    "    return x + 5\n",
    "\n",
    "print(apply_twice(add_five, 10))"
   ]
  },
  {
   "cell_type": "markdown",
   "metadata": {},
   "source": [
    "## 纯函数\n",
    "函数式编程试图使用纯函数。**纯函数没有副作用，并且返回一个仅依赖于它们的参数的值。**  \n",
    "这是数学工作中的函数：例如，对于相同的x, cos(x)总是返回相同的结果。  "
   ]
  },
  {
   "cell_type": "code",
   "execution_count": 3,
   "metadata": {},
   "outputs": [
    {
     "name": "stdout",
     "output_type": "stream",
     "text": [
      "0.8\n"
     ]
    }
   ],
   "source": [
    "# 纯函数的例子：\n",
    "def pure_function(x, y):\n",
    "    temp = x + 2*y\n",
    "    return temp / (2*x + y)\n",
    "print(pure_function(10, 5))"
   ]
  },
  {
   "cell_type": "code",
   "execution_count": 6,
   "metadata": {},
   "outputs": [
    {
     "name": "stdout",
     "output_type": "stream",
     "text": [
      "['a']\n"
     ]
    }
   ],
   "source": [
    "# 非纯函数的例子：\n",
    "some_list = []\n",
    "\n",
    "def impure(arg):\n",
    "    some_list.append(arg) # 因为它改变了some_list的状态\n",
    "    return some_list\n",
    "\n",
    "print(impure('a'))"
   ]
  },
  {
   "cell_type": "markdown",
   "metadata": {},
   "source": [
    "## 纯函数\n",
    "纯函数具备：  \n",
    "1、更容易推理和测试  \n",
    "2、更高效。一旦函数有一个输入，结果可以被存储并在下一次需要该输入的函数时被应用，从而减少函数被调用的次数，这被称为**memoization**。  \n",
    "3、更容易并行运行。  "
   ]
  },
  {
   "cell_type": "markdown",
   "metadata": {},
   "source": [
    "##### 仅适用纯函数的主要缺点是它们主要使I/O的简单任务复杂化\n",
    "在某些情况下，他们也可能更难编写。"
   ]
  },
  {
   "cell_type": "markdown",
   "metadata": {},
   "source": [
    "## Lambda表达式\n",
    "正常创建一个函数（使用def）会自动将其分配给一个变量。  \n",
    "这与其他对象（如字符串和整数）的创建不同，它们可以在运行中创建，而不必将其分配给变量  \n",
    "使用lambda语法创建的函数被称为**匿名函数**  \n",
    "将一个简单函数作为参数传递给另一个函数时，这种方法是最常用的。"
   ]
  },
  {
   "cell_type": "code",
   "execution_count": 7,
   "metadata": {},
   "outputs": [
    {
     "data": {
      "text/plain": [
       "50"
      ]
     },
     "execution_count": 7,
     "metadata": {},
     "output_type": "execute_result"
    }
   ],
   "source": [
    "def my_func(f, arg):\n",
    "    return f(arg)\n",
    "\n",
    "my_func(lambda x: 2*x*x, 5) "
   ]
  },
  {
   "cell_type": "markdown",
   "metadata": {},
   "source": [
    "### Lambda表达式\n",
    "lambda函数不如命名函数强大  \n",
    "它们只能做需要单一表达的事情，通常相当于一行代码"
   ]
  },
  {
   "cell_type": "code",
   "execution_count": 9,
   "metadata": {},
   "outputs": [
    {
     "name": "stdout",
     "output_type": "stream",
     "text": [
      "0\n",
      "0\n"
     ]
    }
   ],
   "source": [
    "# 命名函数\n",
    "def polynomial(x):\n",
    "    return x**2 + 5*x + 4\n",
    "print(polynomial(-4))\n",
    "\n",
    "# lambda\n",
    "print((lambda x: x**2 +5*x + 4) (-4))"
   ]
  },
  {
   "cell_type": "markdown",
   "metadata": {},
   "source": [
    "可以将**Lambda**函数分配给变量，并像普通函数一样使用   \n",
    "但是，很少这样做，用def定义一个函数通常会更好"
   ]
  },
  {
   "cell_type": "code",
   "execution_count": 11,
   "metadata": {},
   "outputs": [
    {
     "name": "stdout",
     "output_type": "stream",
     "text": [
      "14\n"
     ]
    }
   ],
   "source": [
    "double = lambda x: x*2\n",
    "print(double(7))"
   ]
  },
  {
   "cell_type": "code",
   "execution_count": 12,
   "metadata": {},
   "outputs": [
    {
     "name": "stdout",
     "output_type": "stream",
     "text": [
      "13\n"
     ]
    }
   ],
   "source": [
    "triple = lambda x: x*3\n",
    "add = lambda x,y: x+y\n",
    "print(add(triple(3), 4))"
   ]
  },
  {
   "cell_type": "markdown",
   "metadata": {},
   "source": [
    "## map和filter\n",
    "内置的函数**map**和**filter**是列表（或类似的称为迭代的对象）上运行的非常有用的高阶函数  \n",
    "函数**map**接受一个函数和一个迭代器作为参数，并返回一个新的迭代器，该函数应用于每个参数。"
   ]
  },
  {
   "cell_type": "code",
   "execution_count": 13,
   "metadata": {},
   "outputs": [
    {
     "name": "stdout",
     "output_type": "stream",
     "text": [
      "[16, 27, 38, 49, 60]\n"
     ]
    }
   ],
   "source": [
    "def add_five(x):\n",
    "    return x + 5\n",
    "\n",
    "nums = [11, 22, 33, 44, 55]\n",
    "result = list(map(add_five, nums)) # 使用list函数将结果转换成列表\n",
    "print(result)"
   ]
  },
  {
   "cell_type": "code",
   "execution_count": 14,
   "metadata": {},
   "outputs": [
    {
     "name": "stdout",
     "output_type": "stream",
     "text": [
      "[16, 27, 38, 49, 60]\n"
     ]
    }
   ],
   "source": [
    "# 通过使用lambda语法，我们更容易地获得相同的结果\n",
    "nums = [11, 22, 33, 44, 55]\n",
    "\n",
    "result = list(map(lambda x: x+5, nums))\n",
    "print(result)"
   ]
  },
  {
   "cell_type": "markdown",
   "metadata": {},
   "source": [
    "## filter\n",
    "filter函数通过删除与谓词（一个返回布尔值的函数）不匹配的项来过滤一个迭代"
   ]
  },
  {
   "cell_type": "code",
   "execution_count": 16,
   "metadata": {},
   "outputs": [
    {
     "name": "stdout",
     "output_type": "stream",
     "text": [
      "[22, 44]\n"
     ]
    }
   ],
   "source": [
    "# 删除所有奇数值\n",
    "nums = [11, 22, 33, 44, 55]\n",
    "res = list(filter(lambda x: x%2 == 0, nums)) # 跟map一样，如果要打印结果需将结果显示转换为列表\n",
    "print(res)"
   ]
  },
  {
   "cell_type": "code",
   "execution_count": 17,
   "metadata": {},
   "outputs": [
    {
     "name": "stdout",
     "output_type": "stream",
     "text": [
      "[1, 2, 3, 4]\n"
     ]
    }
   ],
   "source": [
    "# 从列表中删除所有大于4的项目\n",
    "nums = [1, 2, 3, 4, 5, 6, 7, 8]\n",
    "res = list(filter(lambda x: x<5, nums))\n",
    "print(res)"
   ]
  },
  {
   "cell_type": "markdown",
   "metadata": {},
   "source": [
    "## 生成器\n",
    "生成器是一种可迭代的类型，如列表或元组  \n",
    "与列表不同的是，它们不允许使用任意索引，但是它们仍然可以通过for循环迭代  \n",
    "可以使用**函数**和**yield**语句来创建它们"
   ]
  },
  {
   "cell_type": "code",
   "execution_count": 18,
   "metadata": {},
   "outputs": [
    {
     "name": "stdout",
     "output_type": "stream",
     "text": [
      "5\n",
      "4\n",
      "3\n",
      "2\n",
      "1\n"
     ]
    }
   ],
   "source": [
    "def countdown():\n",
    "    i = 5\n",
    "    while i>0:\n",
    "        yield i\n",
    "        i -= 1\n",
    "\n",
    "for i in countdown():\n",
    "    print(i)"
   ]
  },
  {
   "cell_type": "markdown",
   "metadata": {},
   "source": [
    "yield 语句用于定义一个生生成器，替换函数的返回值以向调用者提供结果而不被局部变量"
   ]
  },
  {
   "cell_type": "markdown",
   "metadata": {},
   "source": [
    "由于它们一次产生一个项目，所以生成器不具有列表的内存限制。  \n",
    "事实上，它们可以是无限的！  "
   ]
  },
  {
   "cell_type": "code",
   "execution_count": 20,
   "metadata": {},
   "outputs": [],
   "source": [
    "def infinite_sevens():\n",
    "    while True:\n",
    "        yield 7\n",
    "        \n",
    "# for i in infinite_sevens():\n",
    "#     print(i)"
   ]
  },
  {
   "cell_type": "markdown",
   "metadata": {},
   "source": [
    "简而言之，生成器允许你声明一个像迭代器一样的函数，也就是说它可以在for循环中使用。"
   ]
  },
  {
   "cell_type": "code",
   "execution_count": 21,
   "metadata": {
    "collapsed": true
   },
   "outputs": [],
   "source": [
    "# 创建一个素数生成器，生成一个循环中的所有素数。（假设已经定义一个is_prime函数）\n",
    "\n",
    "def get_primes():\n",
    "    nums = 2\n",
    "    while True:\n",
    "        if is_prime(num):\n",
    "            yield num\n",
    "        num += 1"
   ]
  },
  {
   "cell_type": "code",
   "execution_count": 22,
   "metadata": {},
   "outputs": [
    {
     "name": "stdout",
     "output_type": "stream",
     "text": [
      "[0, 2, 4, 6, 8, 10]\n"
     ]
    }
   ],
   "source": [
    "# 有限的生成器可以通过将它们作为参数传递给list 函数来转换成列表\n",
    "\n",
    "def numbers(x):\n",
    "    for i in range(x):\n",
    "        if i % 2 == 0:\n",
    "            yield i\n",
    "        \n",
    "print(list(numbers(11)))"
   ]
  },
  {
   "cell_type": "markdown",
   "metadata": {},
   "source": [
    "使用生成器可以提高性能，这是懒惰（按需）生成值的结果，这意味着更低的内存使用率。而且，在开始使用之前，我们不需要等到所有的元素都被生成。"
   ]
  },
  {
   "cell_type": "code",
   "execution_count": 23,
   "metadata": {},
   "outputs": [
    {
     "name": "stdout",
     "output_type": "stream",
     "text": [
      "['s', 'sp', 'spa', 'spam']\n"
     ]
    }
   ],
   "source": [
    "def make_word():\n",
    "    word = \"\"\n",
    "    for ch in 'spam':\n",
    "        word += ch\n",
    "        yield word\n",
    "\n",
    "print(list(make_word()))"
   ]
  },
  {
   "cell_type": "markdown",
   "metadata": {},
   "source": [
    "## 装饰器\n",
    "**装饰器**提供了使用其他函数修改函数的方法  \n",
    "当你需要扩展不想修改的函数功能是这是很理想的"
   ]
  },
  {
   "cell_type": "code",
   "execution_count": 24,
   "metadata": {},
   "outputs": [
    {
     "name": "stdout",
     "output_type": "stream",
     "text": [
      "============\n",
      "Hello world!\n",
      "============\n"
     ]
    }
   ],
   "source": [
    "def decor(func): # 我们定义一个名为decor的函数，它有一个单一的参数func\n",
    "    def wrap():  # 在decor 中，我们定义了一个名为warp的嵌套函数\n",
    "        print('============')\n",
    "        func()\n",
    "        print('============')\n",
    "    return wrap\n",
    "\n",
    "def print_text():\n",
    "    print('Hello world!')\n",
    "    \n",
    "decorated = decor(print_text)\n",
    "decorated()"
   ]
  },
  {
   "cell_type": "code",
   "execution_count": 25,
   "metadata": {},
   "outputs": [
    {
     "name": "stdout",
     "output_type": "stream",
     "text": [
      "============\n",
      "Hello world!\n",
      "============\n"
     ]
    }
   ],
   "source": [
    "print_text = decor(print_text) # 通过重新赋值包含我们的函数的变量来完成的\n",
    "print_text()"
   ]
  },
  {
   "cell_type": "markdown",
   "metadata": {},
   "source": [
    " 我们之前的例子中，通过包装函数来替换包含函数的变量来实现了装饰函数"
   ]
  },
  {
   "cell_type": "code",
   "execution_count": 28,
   "metadata": {},
   "outputs": [
    {
     "name": "stdout",
     "output_type": "stream",
     "text": [
      "============\n",
      "Hello world!\n",
      "============\n"
     ]
    }
   ],
   "source": [
    "def print_text():\n",
    "    print(\"Hello world!\")\n",
    "print_text = decor(print_text)\n",
    "print_text()"
   ]
  },
  {
   "cell_type": "markdown",
   "metadata": {},
   "source": [
    "这个模式可以随时用来包装任何功能  \n",
    "Python通过预先用装饰器名称和**@symbol**预定义函数来提供支持，以便在装饰器中包装函数。  \n",
    "如果我们在定义一个函数，我们可以使用@符号来‘装饰’它  \n",
    "一个函数可以有多个装饰器。"
   ]
  },
  {
   "cell_type": "code",
   "execution_count": 30,
   "metadata": {},
   "outputs": [
    {
     "name": "stdout",
     "output_type": "stream",
     "text": [
      "============\n",
      "Hello world!\n",
      "============\n"
     ]
    }
   ],
   "source": [
    "@decor           # 这将与上面的代码具有相同的结果\n",
    "def print_text():\n",
    "    print('Hello world!')\n",
    "\n",
    "print_text()"
   ]
  },
  {
   "cell_type": "markdown",
   "metadata": {},
   "source": [
    "## 递归（Recursion）\n",
    "**递归** 是函数式编程中非常重要的概念  \n",
    "递归的基本部分是自引用-调用自己的函数。他被用来解决可以被分解成相同类型的更容易的子问题的问题  \n",
    "一个递归实现的函数的典型例子是**阶乘函数**，N的阶乘写作N! 表示小于等于N的所有正整数的乘积。  \n",
    "例如，5！=5x4x3x2x1=120。可以递归实现：5！= 5x4！,4! = 4x3!等等。一般来说，n! = nx(n-1)!，然而，1!=1被称为**基准情形（base case）**,因为它可以直接被计算，而不用执行更多的阶乘因子  \n",
    "**基准情形**：一个不涉及任何进一步的函数调用的情况，充当递归的退出条件"
   ]
  },
  {
   "cell_type": "code",
   "execution_count": 31,
   "metadata": {},
   "outputs": [
    {
     "name": "stdout",
     "output_type": "stream",
     "text": [
      "120\n"
     ]
    }
   ],
   "source": [
    "# 阶乘函数的递归实现\n",
    "def factorial(x):\n",
    "    if x == 1:\n",
    "        return 1\n",
    "    else:\n",
    "        return x * factorial(x-1)\n",
    "print(factorial(5))"
   ]
  },
  {
   "cell_type": "markdown",
   "metadata": {},
   "source": [
    "递归函数可以是**无限的**，就像无限循环一样。当没有设置基准情形（base case）时，经常发生这种情况。   "
   ]
  },
  {
   "cell_type": "code",
   "execution_count": 32,
   "metadata": {},
   "outputs": [
    {
     "ename": "RecursionError",
     "evalue": "maximum recursion depth exceeded",
     "output_type": "error",
     "traceback": [
      "\u001b[1;31m---------------------------------------------------------------------------\u001b[0m",
      "\u001b[1;31mRecursionError\u001b[0m                            Traceback (most recent call last)",
      "\u001b[1;32m<ipython-input-32-3e40211293be>\u001b[0m in \u001b[0;36m<module>\u001b[1;34m()\u001b[0m\n\u001b[0;32m      2\u001b[0m \u001b[1;32mdef\u001b[0m \u001b[0mfactorial\u001b[0m\u001b[1;33m(\u001b[0m\u001b[0mx\u001b[0m\u001b[1;33m)\u001b[0m\u001b[1;33m:\u001b[0m\u001b[1;33m\u001b[0m\u001b[0m\n\u001b[0;32m      3\u001b[0m     \u001b[1;32mreturn\u001b[0m \u001b[0mx\u001b[0m \u001b[1;33m*\u001b[0m \u001b[0mfactorial\u001b[0m\u001b[1;33m(\u001b[0m\u001b[0mx\u001b[0m\u001b[1;33m-\u001b[0m\u001b[1;36m1\u001b[0m\u001b[1;33m)\u001b[0m\u001b[1;33m\u001b[0m\u001b[0m\n\u001b[1;32m----> 4\u001b[1;33m \u001b[0mprint\u001b[0m\u001b[1;33m(\u001b[0m\u001b[0mfactorial\u001b[0m\u001b[1;33m(\u001b[0m\u001b[1;36m5\u001b[0m\u001b[1;33m)\u001b[0m\u001b[1;33m)\u001b[0m\u001b[1;33m\u001b[0m\u001b[0m\n\u001b[0m",
      "\u001b[1;32m<ipython-input-32-3e40211293be>\u001b[0m in \u001b[0;36mfactorial\u001b[1;34m(x)\u001b[0m\n\u001b[0;32m      1\u001b[0m \u001b[1;31m#下面这个函数没有设置基准情形，在运行时直到解释器内存不足而崩溃\u001b[0m\u001b[1;33m\u001b[0m\u001b[1;33m\u001b[0m\u001b[0m\n\u001b[0;32m      2\u001b[0m \u001b[1;32mdef\u001b[0m \u001b[0mfactorial\u001b[0m\u001b[1;33m(\u001b[0m\u001b[0mx\u001b[0m\u001b[1;33m)\u001b[0m\u001b[1;33m:\u001b[0m\u001b[1;33m\u001b[0m\u001b[0m\n\u001b[1;32m----> 3\u001b[1;33m     \u001b[1;32mreturn\u001b[0m \u001b[0mx\u001b[0m \u001b[1;33m*\u001b[0m \u001b[0mfactorial\u001b[0m\u001b[1;33m(\u001b[0m\u001b[0mx\u001b[0m\u001b[1;33m-\u001b[0m\u001b[1;36m1\u001b[0m\u001b[1;33m)\u001b[0m\u001b[1;33m\u001b[0m\u001b[0m\n\u001b[0m\u001b[0;32m      4\u001b[0m \u001b[0mprint\u001b[0m\u001b[1;33m(\u001b[0m\u001b[0mfactorial\u001b[0m\u001b[1;33m(\u001b[0m\u001b[1;36m5\u001b[0m\u001b[1;33m)\u001b[0m\u001b[1;33m)\u001b[0m\u001b[1;33m\u001b[0m\u001b[0m\n",
      "... last 1 frames repeated, from the frame below ...\n",
      "\u001b[1;32m<ipython-input-32-3e40211293be>\u001b[0m in \u001b[0;36mfactorial\u001b[1;34m(x)\u001b[0m\n\u001b[0;32m      1\u001b[0m \u001b[1;31m#下面这个函数没有设置基准情形，在运行时直到解释器内存不足而崩溃\u001b[0m\u001b[1;33m\u001b[0m\u001b[1;33m\u001b[0m\u001b[0m\n\u001b[0;32m      2\u001b[0m \u001b[1;32mdef\u001b[0m \u001b[0mfactorial\u001b[0m\u001b[1;33m(\u001b[0m\u001b[0mx\u001b[0m\u001b[1;33m)\u001b[0m\u001b[1;33m:\u001b[0m\u001b[1;33m\u001b[0m\u001b[0m\n\u001b[1;32m----> 3\u001b[1;33m     \u001b[1;32mreturn\u001b[0m \u001b[0mx\u001b[0m \u001b[1;33m*\u001b[0m \u001b[0mfactorial\u001b[0m\u001b[1;33m(\u001b[0m\u001b[0mx\u001b[0m\u001b[1;33m-\u001b[0m\u001b[1;36m1\u001b[0m\u001b[1;33m)\u001b[0m\u001b[1;33m\u001b[0m\u001b[0m\n\u001b[0m\u001b[0;32m      4\u001b[0m \u001b[0mprint\u001b[0m\u001b[1;33m(\u001b[0m\u001b[0mfactorial\u001b[0m\u001b[1;33m(\u001b[0m\u001b[1;36m5\u001b[0m\u001b[1;33m)\u001b[0m\u001b[1;33m)\u001b[0m\u001b[1;33m\u001b[0m\u001b[0m\n",
      "\u001b[1;31mRecursionError\u001b[0m: maximum recursion depth exceeded"
     ]
    }
   ],
   "source": [
    "#下面这个函数没有设置基准情形，在运行时直到解释器内存不足而崩溃\n",
    "def factorial(x):\n",
    "    return x * factorial(x-1)\n",
    "print(factorial(5))"
   ]
  },
  {
   "cell_type": "code",
   "execution_count": 33,
   "metadata": {},
   "outputs": [
    {
     "name": "stdout",
     "output_type": "stream",
     "text": [
      "6\n"
     ]
    }
   ],
   "source": [
    "# 求和\n",
    "def sum_to(x):\n",
    "    if x == 0:\n",
    "        return 0\n",
    "    else:\n",
    "        return x + sum_to(x-1)\n",
    "print(sum_to(3))"
   ]
  },
  {
   "cell_type": "markdown",
   "metadata": {},
   "source": [
    "递归也可以是**间接**的，一个函数可以调用第二个函数，第二个函数再调用第一个函数，以此类推，这可以发生在任何数量的函数上"
   ]
  },
  {
   "cell_type": "code",
   "execution_count": 36,
   "metadata": {},
   "outputs": [
    {
     "name": "stdout",
     "output_type": "stream",
     "text": [
      "True\n",
      "False\n"
     ]
    }
   ],
   "source": [
    "# 奇偶数\n",
    "\n",
    "def is_even(x):\n",
    "    if x == 0:\n",
    "        return True\n",
    "    else:\n",
    "        return is_odd(x-1)\n",
    "\n",
    "def is_odd(x):\n",
    "    return not is_even(x)\n",
    "\n",
    "print(is_odd(17))\n",
    "print(is_even(17))"
   ]
  },
  {
   "cell_type": "code",
   "execution_count": 37,
   "metadata": {},
   "outputs": [
    {
     "name": "stdout",
     "output_type": "stream",
     "text": [
      "5\n"
     ]
    }
   ],
   "source": [
    "# 斐波那契\n",
    "\n",
    "def fib(x):\n",
    "    if x == 0 or x == 1:\n",
    "        return 1\n",
    "    else:\n",
    "        return fib(x-1) + fib(x-2)\n",
    "    \n",
    "print(fib(4))"
   ]
  },
  {
   "cell_type": "markdown",
   "metadata": {},
   "source": [
    "## 集合\n",
    "**集合**是数据结构，类似于列表或字典。它们使用花括号或**set**函数创建  \n",
    "它们与列表共享一些功能，例如使用**in**来检查它们是否包含特定项目"
   ]
  },
  {
   "cell_type": "code",
   "execution_count": 38,
   "metadata": {},
   "outputs": [
    {
     "name": "stdout",
     "output_type": "stream",
     "text": [
      "True\n",
      "False\n"
     ]
    }
   ],
   "source": [
    "num_set = {1, 2, 3, 4, 5}\n",
    "word_set = set(['spam', 'eggs', 'sausage']) # 将一个列表转换为一个集合\n",
    "\n",
    "print(3 in num_set)\n",
    "print('spam' not in word_set)"
   ]
  },
  {
   "cell_type": "markdown",
   "metadata": {},
   "source": [
    "要创建一个空集，必须使用set()，如{}是创建一个空字典"
   ]
  },
  {
   "cell_type": "code",
   "execution_count": 41,
   "metadata": {},
   "outputs": [
    {
     "name": "stdout",
     "output_type": "stream",
     "text": [
      "1\n"
     ]
    }
   ],
   "source": [
    "letters = {'a','b','c','d'}\n",
    "if 'f' not in letters:\n",
    "    print(1)\n",
    "else:\n",
    "    print(2)"
   ]
  },
  {
   "cell_type": "markdown",
   "metadata": {},
   "source": [
    "集合在几个方面不同于列表，但共享几个列表操作，如，**len**  \n",
    "集合是**无序**的，这意味着它们不能被索引  \n",
    "集合不能包含重复的元素。  \n",
    "由于存储的方式，检查一个项目是否是一个集合的一部分比检查是不是列表的一部分**更快**  \n",
    "集合使用**add**添加元素，列表使用的是**append**添加元素  \n",
    "**remove** 方法从集合中删除特定的元素，**pop**删除随机的元素"
   ]
  },
  {
   "cell_type": "code",
   "execution_count": 40,
   "metadata": {},
   "outputs": [
    {
     "name": "stdout",
     "output_type": "stream",
     "text": [
      "{1, 2, 3, 4, 5, 6}\n",
      "{1, 2, 4, 5, 6, -7}\n"
     ]
    }
   ],
   "source": [
    "nums = {1, 2, 3, 1, 3, 4, 5, 6}\n",
    "print(nums)\n",
    "nums.add(-7)\n",
    "nums.remove(3)\n",
    "print(nums)"
   ]
  },
  {
   "cell_type": "markdown",
   "metadata": {},
   "source": [
    "通常使用集合来消除重复的条目"
   ]
  },
  {
   "cell_type": "markdown",
   "metadata": {},
   "source": [
    "### 集合的数学运算\n",
    "**联合运算符|** 结合两个集合所有元素的新集合  \n",
    "**相交运算符&**获得两个集合共有的元素  \n",
    "**差运算符-** 获得属于第一个集合中的元素但不属于第二个集合的元素  \n",
    "**对称差分运算符^** 获取任集合中非共有的元素"
   ]
  },
  {
   "cell_type": "code",
   "execution_count": 45,
   "metadata": {},
   "outputs": [
    {
     "name": "stdout",
     "output_type": "stream",
     "text": [
      "{1, 2, 3, 4, 5, 6, 7, 8, 9}\n",
      "{4, 5, 6}\n",
      "{1, 2, 3}\n",
      "{8, 9, 7}\n",
      "{1, 2, 3, 7, 8, 9}\n"
     ]
    }
   ],
   "source": [
    "first = {1, 2, 3, 4, 5, 6}\n",
    "second = { 4, 5, 6, 7, 8, 9}\n",
    "\n",
    "print(first | second) # 并\n",
    "print(first & second) # 交\n",
    "print(first - second) # 差\n",
    "print(second - first) # 差\n",
    "print(first ^ second) # 对称差"
   ]
  },
  {
   "cell_type": "code",
   "execution_count": 46,
   "metadata": {},
   "outputs": [
    {
     "name": "stdout",
     "output_type": "stream",
     "text": [
      "{3}\n"
     ]
    }
   ],
   "source": [
    "a = {1, 2, 3}\n",
    "b = {0, 3, 4, 5}\n",
    "print(a & b)"
   ]
  },
  {
   "cell_type": "markdown",
   "metadata": {},
   "source": [
    "## 数据结构\n",
    "正如我们之前所看到的，Python支持以下数据结构：列表、字典、元组、集合  \n",
    "**何时使用字典**\n",
    "当需要键：值对之间的逻辑关联时。  \n",
    "当需要基于自定义密钥快速查找数据时  \n",
    "当数据不断修改时。字典是可变的  \n",
    "**何时使用其他类型**  \n",
    "如果有一些不需要随机访问的数据集合，请使用列表。  \n",
    "当需要一个简单的，可迭代的频繁修改的集合可以使用列表。  \n",
    "当需要元素的唯一性，使用集合。  \n",
    "当数据无法更改时使用元组  \n",
    "**很多时候，元组与字典结合使用，例如元组可能代表一个关键字，因为它是不可变的**"
   ]
  },
  {
   "cell_type": "markdown",
   "metadata": {},
   "source": [
    "## itertools\n",
    "**itertools**模块是一个标准库，包含了几个在函数式编程中很有用的函数  \n",
    "一种类型的函数是无限迭代器  \n",
    "**count**函数从一个值无限增加  \n",
    "**cycle**函数无限次迭代（例如列表或字符串）  \n",
    "**repeat**函数重复一个对象，无论是无限韩式特定的次数。"
   ]
  },
  {
   "cell_type": "code",
   "execution_count": 47,
   "metadata": {},
   "outputs": [
    {
     "name": "stdout",
     "output_type": "stream",
     "text": [
      "3\n",
      "4\n",
      "5\n",
      "6\n",
      "7\n",
      "8\n",
      "9\n",
      "10\n",
      "11\n"
     ]
    }
   ],
   "source": [
    "from itertools import count\n",
    "for i in count(3):  # 从一个值开始无限增加\n",
    "    print(i)\n",
    "    if i >= 11:\n",
    "        break"
   ]
  },
  {
   "cell_type": "markdown",
   "metadata": {},
   "source": [
    "itertools中有很多功能可以在迭代器上运行，类似于映射和过滤  \n",
    "例如：  \n",
    "**takewhile**当判定函数（返回值为True或False）保持为True时，从迭代中取得项目；  \n",
    "**chain**将几个迭代结合成一个长整数；  \n",
    "**accumulate **以可迭代的方式返回一个正在运行的值。"
   ]
  },
  {
   "cell_type": "code",
   "execution_count": 48,
   "metadata": {},
   "outputs": [
    {
     "name": "stdout",
     "output_type": "stream",
     "text": [
      "[0, 1, 3, 6, 10, 15, 21, 28]\n",
      "[0, 1, 3, 6]\n"
     ]
    }
   ],
   "source": [
    "from itertools import accumulate, takewhile\n",
    "\n",
    "nums = list(accumulate(range(8)))\n",
    "print(nums)\n",
    "print(list(takewhile(lambda x: x<= 6, nums)))"
   ]
  },
  {
   "cell_type": "code",
   "execution_count": 49,
   "metadata": {},
   "outputs": [
    {
     "name": "stdout",
     "output_type": "stream",
     "text": [
      "[2, 4, 6]\n"
     ]
    }
   ],
   "source": [
    "# 使用takewhile函数，以便从列表中获取数字\n",
    "from itertools import takewhile\n",
    "nums = [2, 4, 6, 7, 9, 8]\n",
    "a = takewhile(lambda x: x%2==0, nums)\n",
    "print(list(a))"
   ]
  },
  {
   "cell_type": "markdown",
   "metadata": {},
   "source": [
    "** itertools**中还有几个组合函数，比如**product** 和** permutation** "
   ]
  },
  {
   "cell_type": "code",
   "execution_count": 51,
   "metadata": {},
   "outputs": [
    {
     "name": "stdout",
     "output_type": "stream",
     "text": [
      "[('A', 0), ('A', 1), ('B', 0), ('B', 1)]\n",
      "[('A', 'B'), ('B', 'A')]\n"
     ]
    }
   ],
   "source": [
    "from itertools import product, permutations\n",
    "\n",
    "letters = ('A','B')\n",
    "print(list(product(letters, range(2))))\n",
    "print(list(permutations(letters))) # 当一些项目的所有可能的组合来完成任务时使用"
   ]
  },
  {
   "cell_type": "code",
   "execution_count": 52,
   "metadata": {},
   "outputs": [
    {
     "name": "stdout",
     "output_type": "stream",
     "text": [
      "6\n"
     ]
    }
   ],
   "source": [
    "from itertools import product\n",
    "a = {1, 2}\n",
    "print(len(list(product(range(3), a))))"
   ]
  },
  {
   "cell_type": "markdown",
   "metadata": {},
   "source": [
    "### 练习"
   ]
  },
  {
   "cell_type": "code",
   "execution_count": 53,
   "metadata": {},
   "outputs": [
    {
     "name": "stdout",
     "output_type": "stream",
     "text": [
      "2\n"
     ]
    }
   ],
   "source": [
    "nums = {1, 2, 3, 4, 5, 6}\n",
    "nums = {0, 1, 2, 3} & nums  # {1, 2, 3}\n",
    "nums = filter(lambda x: x>1, nums)\n",
    "print(len(list(nums)))"
   ]
  },
  {
   "cell_type": "code",
   "execution_count": 56,
   "metadata": {},
   "outputs": [
    {
     "name": "stdout",
     "output_type": "stream",
     "text": [
      "8\n"
     ]
    }
   ],
   "source": [
    "def power(x,y):\n",
    "    if y == 0:\n",
    "        return 1\n",
    "    else:\n",
    "        return x*power(x,y-1)\n",
    "print(power(2,3))"
   ]
  },
  {
   "cell_type": "code",
   "execution_count": 57,
   "metadata": {},
   "outputs": [
    {
     "name": "stdout",
     "output_type": "stream",
     "text": [
      "42\n"
     ]
    }
   ],
   "source": [
    "# 使用匿名函数计算表达式 x*(x+1)，并使用数字6作为参数调用\n",
    "a = (lambda x:x*(x+1))(6)\n",
    "print(a)"
   ]
  },
  {
   "cell_type": "code",
   "execution_count": 62,
   "metadata": {},
   "outputs": [
    {
     "name": "stdout",
     "output_type": "stream",
     "text": [
      "[2, 8]\n"
     ]
    }
   ],
   "source": [
    "# 在列表中只留下偶数\n",
    "nums = [1, 2, 3, 8, 7]\n",
    "res = list(filter(lambda x: x%2 == 0, nums))\n",
    "print(res)"
   ]
  },
  {
   "cell_type": "code",
   "execution_count": 63,
   "metadata": {},
   "outputs": [
    {
     "name": "stdout",
     "output_type": "stream",
     "text": [
      "{1, 2}\n"
     ]
    }
   ],
   "source": [
    "# 只打印集合‘a’中不在集合‘b’中的项目\n",
    "a = {1,2,3}\n",
    "b = {3,4,5}\n",
    "print(a-b)"
   ]
  },
  {
   "cell_type": "code",
   "execution_count": null,
   "metadata": {
    "collapsed": true
   },
   "outputs": [],
   "source": []
  }
 ],
 "metadata": {
  "kernelspec": {
   "display_name": "Python 3",
   "language": "python",
   "name": "python3"
  },
  "language_info": {
   "codemirror_mode": {
    "name": "ipython",
    "version": 3
   },
   "file_extension": ".py",
   "mimetype": "text/x-python",
   "name": "python",
   "nbconvert_exporter": "python",
   "pygments_lexer": "ipython3",
   "version": "3.6.1"
  }
 },
 "nbformat": 4,
 "nbformat_minor": 2
}
