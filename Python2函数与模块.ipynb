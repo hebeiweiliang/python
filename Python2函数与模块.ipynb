{
 "cells": [
  {
   "cell_type": "markdown",
   "metadata": {},
   "source": [
    "# Python函数与模块"
   ]
  },
  {
   "cell_type": "markdown",
   "metadata": {},
   "source": [
    "## 代码重用\n",
    "代码重用是任何语言编程的重要的一部分，越来越多的代码使得维护变得更加困难  \n",
    "为了让大型编程项目取得成功，必须遵守不要重复自己的原则，也就是**DRY**原则  \n",
    "我们将探索除循环以外的另外两种方式：**函数**（functions）和**模块**（modules）"
   ]
  },
  {
   "cell_type": "markdown",
   "metadata": {},
   "source": [
    "## 函数(functions)\n",
    "由单词组成跟随一对圆括号，执行的都是一个函数的调用。圆括号前的单词是函数名，括号内逗号分隔值是函数的参数,例如:"
   ]
  },
  {
   "cell_type": "code",
   "execution_count": 1,
   "metadata": {},
   "outputs": [
    {
     "name": "stdout",
     "output_type": "stream",
     "text": [
      "Hello WeiLiang!\n"
     ]
    },
    {
     "data": {
      "text/plain": [
       "range(10, 20, 3)"
      ]
     },
     "execution_count": 1,
     "metadata": {},
     "output_type": "execute_result"
    }
   ],
   "source": [
    "print('Hello WeiLiang!')\n",
    "range(2,10)\n",
    "str(12)\n",
    "range(10,20,3)"
   ]
  },
  {
   "cell_type": "markdown",
   "metadata": {},
   "source": [
    "### def 创建自己的函数\n",
    "除了使用预定义的函数外，还可以使用**def**语句创建自己的函数  \n"
   ]
  },
  {
   "cell_type": "code",
   "execution_count": 2,
   "metadata": {},
   "outputs": [
    {
     "name": "stdout",
     "output_type": "stream",
     "text": [
      "你好\n",
      "你好\n"
     ]
    }
   ],
   "source": [
    "def my_fun():\n",
    "    print('你好')\n",
    "    print('你好')\n",
    "\n",
    "my_fun()"
   ]
  },
  {
   "cell_type": "markdown",
   "metadata": {},
   "source": [
    "必须在函数调用之前定义函数，就像使用变量之前给变量分配值一样"
   ]
  },
  {
   "cell_type": "code",
   "execution_count": 3,
   "metadata": {},
   "outputs": [
    {
     "ename": "NameError",
     "evalue": "name 'hello' is not defined",
     "output_type": "error",
     "traceback": [
      "\u001b[1;31m---------------------------------------------------------------------------\u001b[0m",
      "\u001b[1;31mNameError\u001b[0m                                 Traceback (most recent call last)",
      "\u001b[1;32m<ipython-input-3-a40be73b99ae>\u001b[0m in \u001b[0;36m<module>\u001b[1;34m()\u001b[0m\n\u001b[1;32m----> 1\u001b[1;33m \u001b[0mhello\u001b[0m\u001b[1;33m(\u001b[0m\u001b[1;33m)\u001b[0m\u001b[1;33m\u001b[0m\u001b[0m\n\u001b[0m\u001b[0;32m      2\u001b[0m \u001b[1;33m\u001b[0m\u001b[0m\n\u001b[0;32m      3\u001b[0m \u001b[1;32mdef\u001b[0m \u001b[0mhello\u001b[0m\u001b[1;33m(\u001b[0m\u001b[1;33m)\u001b[0m\u001b[1;33m:\u001b[0m\u001b[1;33m\u001b[0m\u001b[0m\n\u001b[0;32m      4\u001b[0m     \u001b[0mprint\u001b[0m\u001b[1;33m(\u001b[0m\u001b[1;34m'Hello world!'\u001b[0m\u001b[1;33m)\u001b[0m\u001b[1;33m\u001b[0m\u001b[0m\n",
      "\u001b[1;31mNameError\u001b[0m: name 'hello' is not defined"
     ]
    }
   ],
   "source": [
    "hello()\n",
    "\n",
    "def hello():\n",
    "    print('Hello world!')"
   ]
  },
  {
   "cell_type": "markdown",
   "metadata": {},
   "source": [
    "## 函数参数\n",
    "大部分函数都有参数"
   ]
  },
  {
   "cell_type": "code",
   "execution_count": 4,
   "metadata": {},
   "outputs": [
    {
     "name": "stdout",
     "output_type": "stream",
     "text": [
      "皮卡丘!\n",
      "可达鸭!\n"
     ]
    }
   ],
   "source": [
    "def print_with_exclamation(word):\n",
    "    print(word + '!')\n",
    "\n",
    "print_with_exclamation('皮卡丘')\n",
    "print_with_exclamation('可达鸭')"
   ]
  },
  {
   "cell_type": "code",
   "execution_count": 5,
   "metadata": {},
   "outputs": [
    {
     "name": "stdout",
     "output_type": "stream",
     "text": [
      "6\n"
     ]
    }
   ],
   "source": [
    "def print_double(x):\n",
    "    print(2 * x)\n",
    "    \n",
    "print_double(3)"
   ]
  },
  {
   "cell_type": "markdown",
   "metadata": {},
   "source": [
    "可以使用逗号分隔多个参数定义函数"
   ]
  },
  {
   "cell_type": "code",
   "execution_count": 7,
   "metadata": {},
   "outputs": [
    {
     "name": "stdout",
     "output_type": "stream",
     "text": [
      "5\n"
     ]
    }
   ],
   "source": [
    "def print_sum(x,y):\n",
    "    print(x + y)\n",
    "    \n",
    "print_sum(2,3)"
   ]
  },
  {
   "cell_type": "code",
   "execution_count": 8,
   "metadata": {},
   "outputs": [
    {
     "name": "stdout",
     "output_type": "stream",
     "text": [
      "6\n"
     ]
    }
   ],
   "source": [
    "def print_mult(x,y):\n",
    "    print(x * y)\n",
    "\n",
    "print_mult(2,3)"
   ]
  },
  {
   "cell_type": "markdown",
   "metadata": {},
   "source": [
    "函数参数可以在函数内部当变量使用，但不能再函数的定义之外被引用。函数内部创建的其他变量也不能在函数外部被引用。"
   ]
  },
  {
   "cell_type": "code",
   "execution_count": 10,
   "metadata": {},
   "outputs": [
    {
     "name": "stdout",
     "output_type": "stream",
     "text": [
      "8\n"
     ]
    },
    {
     "ename": "NameError",
     "evalue": "name 'variable' is not defined",
     "output_type": "error",
     "traceback": [
      "\u001b[1;31m---------------------------------------------------------------------------\u001b[0m",
      "\u001b[1;31mNameError\u001b[0m                                 Traceback (most recent call last)",
      "\u001b[1;32m<ipython-input-10-c48a4bbc5eae>\u001b[0m in \u001b[0;36m<module>\u001b[1;34m()\u001b[0m\n\u001b[0;32m      4\u001b[0m \u001b[1;33m\u001b[0m\u001b[0m\n\u001b[0;32m      5\u001b[0m \u001b[0mfunction\u001b[0m\u001b[1;33m(\u001b[0m\u001b[1;36m7\u001b[0m\u001b[1;33m)\u001b[0m\u001b[1;33m\u001b[0m\u001b[0m\n\u001b[1;32m----> 6\u001b[1;33m \u001b[0mprint\u001b[0m\u001b[1;33m(\u001b[0m\u001b[0mvariable\u001b[0m\u001b[1;33m)\u001b[0m\u001b[1;33m\u001b[0m\u001b[0m\n\u001b[0m",
      "\u001b[1;31mNameError\u001b[0m: name 'variable' is not defined"
     ]
    }
   ],
   "source": [
    "def function(variable):\n",
    "    variable += 1\n",
    "    print(variable)\n",
    "\n",
    "function(7)\n",
    "print(variable)"
   ]
  },
  {
   "cell_type": "markdown",
   "metadata": {},
   "source": [
    "定义event函数，如果参数是偶数，打印‘Yes’，否则打印‘No’"
   ]
  },
  {
   "cell_type": "code",
   "execution_count": 11,
   "metadata": {},
   "outputs": [
    {
     "name": "stdout",
     "output_type": "stream",
     "text": [
      "Yes\n"
     ]
    }
   ],
   "source": [
    "def event(x):\n",
    "    if x % 2 == 0:\n",
    "        print('Yes')\n",
    "    else:\n",
    "        print('No')\n",
    "        \n",
    "event(10)"
   ]
  },
  {
   "cell_type": "markdown",
   "metadata": {},
   "source": [
    "## 函数返回值\n",
    "某些函数(如 int 或 str)会返回一个稍后可用的值。定义的函数可以使用** return** 语句执行此操作  \n",
    "return 语句不能在函数定义之外使用"
   ]
  },
  {
   "cell_type": "code",
   "execution_count": 12,
   "metadata": {},
   "outputs": [
    {
     "name": "stdout",
     "output_type": "stream",
     "text": [
      "3\n",
      "5\n"
     ]
    }
   ],
   "source": [
    "def max(x,y):\n",
    "    if x >= y:\n",
    "        return x\n",
    "    else:\n",
    "        return y\n",
    "\n",
    "print(max(1,3))\n",
    "z = max(2,5)\n",
    "print(z)"
   ]
  },
  {
   "cell_type": "markdown",
   "metadata": {},
   "source": [
    "定义一个函数，比较参数长度，并返回最短的一个"
   ]
  },
  {
   "cell_type": "code",
   "execution_count": 13,
   "metadata": {},
   "outputs": [
    {
     "data": {
      "text/plain": [
       "'wei'"
      ]
     },
     "execution_count": 13,
     "metadata": {},
     "output_type": "execute_result"
    }
   ],
   "source": [
    "def shortest_string(x,y):\n",
    "    if len(x) <= len(y):\n",
    "        return x\n",
    "    else:\n",
    "        return y\n",
    "\n",
    "shortest_string('wei','liang')"
   ]
  },
  {
   "cell_type": "markdown",
   "metadata": {},
   "source": [
    "一旦从一个函数返回一个值，函数立即停止执行，返回语句之后的任何代码都不会执行"
   ]
  },
  {
   "cell_type": "code",
   "execution_count": 15,
   "metadata": {},
   "outputs": [
    {
     "name": "stdout",
     "output_type": "stream",
     "text": [
      "9\n"
     ]
    }
   ],
   "source": [
    "def add_numbers(x,y):\n",
    "    total = x + y\n",
    "    return total\n",
    "    print(\"This won't be printed\")\n",
    "print(add_numbers(4,5))"
   ]
  },
  {
   "cell_type": "code",
   "execution_count": 16,
   "metadata": {},
   "outputs": [
    {
     "name": "stdout",
     "output_type": "stream",
     "text": [
      "1\n",
      "2\n"
     ]
    }
   ],
   "source": [
    "# 调用此函数返回最大数字是多少\n",
    "def print_numbers():\n",
    "    print(1)\n",
    "    print(2)\n",
    "    return\n",
    "    print(4)\n",
    "    print(6)\n",
    "\n",
    "print_numbers()"
   ]
  },
  {
   "cell_type": "markdown",
   "metadata": {},
   "source": [
    "## 注释\n",
    "注释是用于使代码更容易理解的代码说明。它们不影响代码的运行  \n",
    "在Python中，通过插入一个**#** 来创建注释，该行后面的所有文本都被忽略"
   ]
  },
  {
   "cell_type": "code",
   "execution_count": 17,
   "metadata": {},
   "outputs": [
    {
     "name": "stdout",
     "output_type": "stream",
     "text": [
      "1\n"
     ]
    }
   ],
   "source": [
    "x = 365\n",
    "y = 7\n",
    "# 这是一个注释\n",
    "\n",
    "print(x % y) # 打印余数\n",
    "# print(x // y)\n",
    "# 注释不会影响程序运行\n",
    "# Python 中没有通用的多行注释"
   ]
  },
  {
   "cell_type": "markdown",
   "metadata": {},
   "source": [
    "## 文档\n",
    "Docstrings（文档字符串）和注释的目的类似，因为它们旨在解释代码。但是，它们更具体，并且具有不同的语法。  \n",
    "它们是通过在函数的第一行下面放置一个包含函数说明的**多行字符串**来创建的"
   ]
  },
  {
   "cell_type": "code",
   "execution_count": 18,
   "metadata": {},
   "outputs": [
    {
     "name": "stdout",
     "output_type": "stream",
     "text": [
      "Hello world!\n"
     ]
    }
   ],
   "source": [
    "def shout(word):\n",
    "    \"\"\"\n",
    "    给一个词后面加一个感叹号\n",
    "    并打印这个词\n",
    "    \"\"\"\n",
    "    print(word + '!')\n",
    "    \n",
    "shout('Hello world')"
   ]
  },
  {
   "cell_type": "markdown",
   "metadata": {},
   "source": [
    "与传统的注释不同，文档字符串在整个程序运行时保留，这允许程序员在运行时检查这些文档注释"
   ]
  },
  {
   "cell_type": "markdown",
   "metadata": {},
   "source": [
    "## 函数对象\n",
    "函数与其他任何类型的值一样，可以将他们重新分配给变量，并在稍后有这些名称引用函数"
   ]
  },
  {
   "cell_type": "code",
   "execution_count": 19,
   "metadata": {},
   "outputs": [
    {
     "name": "stdout",
     "output_type": "stream",
     "text": [
      "32\n"
     ]
    }
   ],
   "source": [
    "def multiply(x,y):\n",
    "    return x * y\n",
    "a = 4\n",
    "b = 8\n",
    "operation = multiply\n",
    "print(operation(a,b))"
   ]
  },
  {
   "cell_type": "markdown",
   "metadata": {},
   "source": [
    "函数也可以作为其他函数的**参数**"
   ]
  },
  {
   "cell_type": "code",
   "execution_count": 20,
   "metadata": {},
   "outputs": [
    {
     "name": "stdout",
     "output_type": "stream",
     "text": [
      "30\n"
     ]
    }
   ],
   "source": [
    "def add(x, y):\n",
    "    return x + y\n",
    "\n",
    "def do_twice(func, x, y):\n",
    "    return func(func(x, y), func(x, y))\n",
    "\n",
    "a = 5\n",
    "b = 10\n",
    "print(do_twice(add, a, b))"
   ]
  },
  {
   "cell_type": "markdown",
   "metadata": {},
   "source": [
    "函数do_twice接受一个函数作为参数并在它的函数内部调用它"
   ]
  },
  {
   "cell_type": "markdown",
   "metadata": {},
   "source": [
    "# 模块\n",
    "模块是其他人为完成常见任务而编写的一些代码，例如生成随机数字，执行数学运算  \n",
    "使用模块的基本方法是在代码顶部添加import module_name, 然后使用module_name.var 访问摸块中名称为var的函数和值"
   ]
  },
  {
   "cell_type": "code",
   "execution_count": 21,
   "metadata": {},
   "outputs": [
    {
     "name": "stdout",
     "output_type": "stream",
     "text": [
      "3\n",
      "3\n",
      "6\n",
      "1\n",
      "4\n"
     ]
    }
   ],
   "source": [
    "# 使用随机模块生成随机数字\n",
    "import random\n",
    "for i in range(5):\n",
    "    value = random.randint(1,6) # randint函数打印1到6范围内的5个随机数\n",
    "    print(value)"
   ]
  },
  {
   "cell_type": "code",
   "execution_count": 22,
   "metadata": {},
   "outputs": [
    {
     "name": "stdout",
     "output_type": "stream",
     "text": [
      "3.1622776601683795\n"
     ]
    }
   ],
   "source": [
    "import math\n",
    "num = 10\n",
    "print(math.sqrt(num))"
   ]
  },
  {
   "cell_type": "markdown",
   "metadata": {},
   "source": [
    "如果只需要某个模块的某些功能，可以使用另一种导入方式\n",
    "使用 form module_name import var 的形式，然后var 可以像在代码中正常定义一样使用"
   ]
  },
  {
   "cell_type": "code",
   "execution_count": 23,
   "metadata": {},
   "outputs": [
    {
     "name": "stdout",
     "output_type": "stream",
     "text": [
      "3.141592653589793\n"
     ]
    }
   ],
   "source": [
    "from math import pi\n",
    "\n",
    "print(pi)"
   ]
  },
  {
   "cell_type": "markdown",
   "metadata": {},
   "source": [
    "可以使用逗号分隔导入多个对象，例如"
   ]
  },
  {
   "cell_type": "code",
   "execution_count": 25,
   "metadata": {},
   "outputs": [],
   "source": [
    "from math import pi, sqrt\n",
    "# 可以使用 * 号导入模块中的所有对象。例如: from math import *\n",
    "# 注意：通常不鼓励这样，因为他会将代码中的变量与外部模块中的变量混淆"
   ]
  },
  {
   "cell_type": "markdown",
   "metadata": {},
   "source": [
    "尝试导入不可用的模块会引发ImportError错误“”"
   ]
  },
  {
   "cell_type": "code",
   "execution_count": 26,
   "metadata": {},
   "outputs": [
    {
     "ename": "ModuleNotFoundError",
     "evalue": "No module named 'some_module'",
     "output_type": "error",
     "traceback": [
      "\u001b[1;31m---------------------------------------------------------------------------\u001b[0m",
      "\u001b[1;31mModuleNotFoundError\u001b[0m                       Traceback (most recent call last)",
      "\u001b[1;32m<ipython-input-26-d4613f88d17c>\u001b[0m in \u001b[0;36m<module>\u001b[1;34m()\u001b[0m\n\u001b[1;32m----> 1\u001b[1;33m \u001b[1;32mimport\u001b[0m \u001b[0msome_module\u001b[0m\u001b[1;33m\u001b[0m\u001b[0m\n\u001b[0m",
      "\u001b[1;31mModuleNotFoundError\u001b[0m: No module named 'some_module'"
     ]
    }
   ],
   "source": [
    "import some_module"
   ]
  },
  {
   "cell_type": "markdown",
   "metadata": {},
   "source": [
    "#### 可以使用as关键字给导入的模块或对象重命名。模块或对象名称教长或容易混淆是较常用"
   ]
  },
  {
   "cell_type": "code",
   "execution_count": 28,
   "metadata": {},
   "outputs": [
    {
     "name": "stdout",
     "output_type": "stream",
     "text": [
      "10.0\n"
     ]
    }
   ],
   "source": [
    "from math import sqrt as square_root\n",
    "print(square_root(100))"
   ]
  },
  {
   "cell_type": "markdown",
   "metadata": {},
   "source": [
    "#### 一些标准的库 string， re, datetime, math, random, os, multiprocessing, subprocess, socket, email, json, doctest, unittest, pdb, argparse和sys  \n",
    "标准库可以完成的任务包括字符串解析，数据序列化，测试，操作日期，电子邮件，命令行参数等等  \n",
    "Python众多的标准库是其作为语言的主要优势之一"
   ]
  },
  {
   "cell_type": "markdown",
   "metadata": {},
   "source": [
    "标准库中的一些模块是用Python编写的，有些是用C编写的，大多数都是可以在所有平台上使用，但是一些是Windows或Unix特定的。  \n",
    "标准库的完整文档可在www.python.org 上在线获取。"
   ]
  },
  {
   "cell_type": "markdown",
   "metadata": {},
   "source": [
    "#### 许多第三方Python模块都存储在Python Package Index(PyPI)中。  \n",
    "最好的安装方法是使用pip的程序。Python的发行版默认安装了pip。如果没有安装pip，也可以很容易通过在线安装。  \n",
    "一旦拥有它，从PyPI安装库是很容易的。查找要安装的库的名称，转到命令行（对于windows，是命令提示符），然后输入**pip install library_name** 完成此操作后，导入库并在代码中使用它。  \n",
    "使用pip 是在大多数操作系统上安装标准库的标准方法，但是一些库已经为windows预编译了二进制文件。这些是正常的可执行的文件，可以让您使用GUI安装库。这与安装其他程序的方式相同。"
   ]
  }
 ],
 "metadata": {
  "kernelspec": {
   "display_name": "Python 3",
   "language": "python",
   "name": "python3"
  },
  "language_info": {
   "codemirror_mode": {
    "name": "ipython",
    "version": 3
   },
   "file_extension": ".py",
   "mimetype": "text/x-python",
   "name": "python",
   "nbconvert_exporter": "python",
   "pygments_lexer": "ipython3",
   "version": "3.6.1"
  }
 },
 "nbformat": 4,
 "nbformat_minor": 2
}
