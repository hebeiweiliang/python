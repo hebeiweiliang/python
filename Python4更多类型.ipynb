{
 "cells": [
  {
   "cell_type": "markdown",
   "metadata": {},
   "source": [
    "# 更多类型"
   ]
  },
  {
   "cell_type": "markdown",
   "metadata": {},
   "source": [
    "## None\n",
    "None对象用于表示**缺值**  \n",
    "类似于其他编程语言中的null  \n",
    "像其他‘empty’值一样，如0,[]和空字符串，在转换为布尔变量时为False  \n",
    "在Python控制台中输入时，它会显示为空字符串"
   ]
  },
  {
   "cell_type": "code",
   "execution_count": 1,
   "metadata": {},
   "outputs": [
    {
     "data": {
      "text/plain": [
       "True"
      ]
     },
     "execution_count": 1,
     "metadata": {},
     "output_type": "execute_result"
    }
   ],
   "source": [
    "None == None"
   ]
  },
  {
   "cell_type": "code",
   "execution_count": 2,
   "metadata": {},
   "outputs": [
    {
     "name": "stdout",
     "output_type": "stream",
     "text": [
      "None\n"
     ]
    }
   ],
   "source": [
    "print(None)"
   ]
  },
  {
   "cell_type": "markdown",
   "metadata": {},
   "source": [
    "None对象是有不返回任何东西（没有调用return语句）的函数返回的"
   ]
  },
  {
   "cell_type": "code",
   "execution_count": 4,
   "metadata": {},
   "outputs": [
    {
     "name": "stdout",
     "output_type": "stream",
     "text": [
      "Hi!\n",
      "None\n"
     ]
    }
   ],
   "source": [
    "def some_func():  # 没有return，不返回任何东西\n",
    "    print('Hi!')  # 只执行打印\n",
    "\n",
    "var = some_func()\n",
    "print(var)"
   ]
  },
  {
   "cell_type": "code",
   "execution_count": 6,
   "metadata": {},
   "outputs": [
    {
     "name": "stdout",
     "output_type": "stream",
     "text": [
      "\n",
      "1\n"
     ]
    }
   ],
   "source": [
    "# 这段代码打印什么数字？\n",
    "foo = print()\n",
    "if foo == None:\n",
    "    print(1)\n",
    "else:\n",
    "    print(2)"
   ]
  },
  {
   "cell_type": "markdown",
   "metadata": {
    "collapsed": true
   },
   "source": [
    "## 字典\n",
    "**字典**是用于将任意键映射到值的数据结构。字典中的每一个元素都由一个key:value对来表示  \n",
    "列表可以被认为是在一定范围内具有整数键的字典  \n",
    "字典可以用与列表相同的方式建立索引，使用包含关键字的方括号"
   ]
  },
  {
   "cell_type": "code",
   "execution_count": 8,
   "metadata": {},
   "outputs": [
    {
     "name": "stdout",
     "output_type": "stream",
     "text": [
      "24\n",
      "42\n"
     ]
    }
   ],
   "source": [
    "ages = {'Dave': 24, 'Mary': 42, 'John': 58}\n",
    "print(ages['Dave'])\n",
    "print(ages['Mary'])"
   ]
  },
  {
   "cell_type": "markdown",
   "metadata": {
    "collapsed": true
   },
   "source": [
    "#### 尝试索引不属于字典的键将返回一个KeyError"
   ]
  },
  {
   "cell_type": "code",
   "execution_count": 10,
   "metadata": {},
   "outputs": [
    {
     "name": "stdout",
     "output_type": "stream",
     "text": [
      "[255, 0, 0]\n"
     ]
    },
    {
     "ename": "KeyError",
     "evalue": "'yellow'",
     "output_type": "error",
     "traceback": [
      "\u001b[1;31m---------------------------------------------------------------------------\u001b[0m",
      "\u001b[1;31mKeyError\u001b[0m                                  Traceback (most recent call last)",
      "\u001b[1;32m<ipython-input-10-67744815df80>\u001b[0m in \u001b[0;36m<module>\u001b[1;34m()\u001b[0m\n\u001b[0;32m      5\u001b[0m }\n\u001b[0;32m      6\u001b[0m \u001b[0mprint\u001b[0m\u001b[1;33m(\u001b[0m\u001b[0mprimary\u001b[0m\u001b[1;33m[\u001b[0m\u001b[1;34m'red'\u001b[0m\u001b[1;33m]\u001b[0m\u001b[1;33m)\u001b[0m\u001b[1;33m\u001b[0m\u001b[0m\n\u001b[1;32m----> 7\u001b[1;33m \u001b[0mprint\u001b[0m\u001b[1;33m(\u001b[0m\u001b[0mprimary\u001b[0m\u001b[1;33m[\u001b[0m\u001b[1;34m'yellow'\u001b[0m\u001b[1;33m]\u001b[0m\u001b[1;33m)\u001b[0m \u001b[1;31m# 尝试索引不属于字典的键\u001b[0m\u001b[1;33m\u001b[0m\u001b[0m\n\u001b[0m",
      "\u001b[1;31mKeyError\u001b[0m: 'yellow'"
     ]
    }
   ],
   "source": [
    "primary = {\n",
    "    'red': [255, 0, 0],\n",
    "    'green': [0, 255, 255],\n",
    "    'blue': [0, 0, 255]\n",
    "}\n",
    "print(primary['red'])\n",
    "print(primary['yellow']) # 尝试索引不属于字典的键"
   ]
  },
  {
   "cell_type": "markdown",
   "metadata": {
    "collapsed": true
   },
   "source": [
    "#### 如上，字典可以将任何类型的数据存储为值。 空字典被定义为{}"
   ]
  },
  {
   "cell_type": "code",
   "execution_count": 11,
   "metadata": {},
   "outputs": [
    {
     "ename": "KeyError",
     "evalue": "0",
     "output_type": "error",
     "traceback": [
      "\u001b[1;31m---------------------------------------------------------------------------\u001b[0m",
      "\u001b[1;31mKeyError\u001b[0m                                  Traceback (most recent call last)",
      "\u001b[1;32m<ipython-input-11-baf415557d4b>\u001b[0m in \u001b[0;36m<module>\u001b[1;34m()\u001b[0m\n\u001b[0;32m      1\u001b[0m \u001b[1;31m# 这段代码的结果是什么？\u001b[0m\u001b[1;33m\u001b[0m\u001b[1;33m\u001b[0m\u001b[0m\n\u001b[0;32m      2\u001b[0m \u001b[0mtest\u001b[0m \u001b[1;33m=\u001b[0m \u001b[1;33m{\u001b[0m\u001b[1;33m}\u001b[0m\u001b[1;33m\u001b[0m\u001b[0m\n\u001b[1;32m----> 3\u001b[1;33m \u001b[0mprint\u001b[0m\u001b[1;33m(\u001b[0m\u001b[0mtest\u001b[0m\u001b[1;33m[\u001b[0m\u001b[1;36m0\u001b[0m\u001b[1;33m]\u001b[0m\u001b[1;33m)\u001b[0m\u001b[1;33m\u001b[0m\u001b[0m\n\u001b[0m",
      "\u001b[1;31mKeyError\u001b[0m: 0"
     ]
    }
   ],
   "source": [
    "# 这段代码的结果是什么？\n",
    "test = {}\n",
    "print(test[0])"
   ]
  },
  {
   "cell_type": "markdown",
   "metadata": {
    "collapsed": true
   },
   "source": [
    "只有不可变的对象可以用作字典的关键字。不可变对象是那些不能被改变的对象  \n",
    "目前为止所遇到的对象是**列表** 和** 字典**  \n",
    "尝试使用可变对象作为字典键,会导致**TypeError**"
   ]
  },
  {
   "cell_type": "code",
   "execution_count": 12,
   "metadata": {},
   "outputs": [
    {
     "ename": "TypeError",
     "evalue": "unhashable type: 'list'",
     "output_type": "error",
     "traceback": [
      "\u001b[1;31m---------------------------------------------------------------------------\u001b[0m",
      "\u001b[1;31mTypeError\u001b[0m                                 Traceback (most recent call last)",
      "\u001b[1;32m<ipython-input-12-2c2256eaf451>\u001b[0m in \u001b[0;36m<module>\u001b[1;34m()\u001b[0m\n\u001b[0;32m      1\u001b[0m bad_dict = {\n\u001b[1;32m----> 2\u001b[1;33m     \u001b[1;33m[\u001b[0m\u001b[1;36m1\u001b[0m\u001b[1;33m,\u001b[0m \u001b[1;36m2\u001b[0m\u001b[1;33m,\u001b[0m \u001b[1;36m3\u001b[0m\u001b[1;33m]\u001b[0m\u001b[1;33m:\u001b[0m \u001b[1;34m'one two three'\u001b[0m\u001b[1;33m,\u001b[0m\u001b[1;33m\u001b[0m\u001b[0m\n\u001b[0m\u001b[0;32m      3\u001b[0m }\n",
      "\u001b[1;31mTypeError\u001b[0m: unhashable type: 'list'"
     ]
    }
   ],
   "source": [
    "bad_dict = {\n",
    "    [1, 2, 3]: 'one two three',\n",
    "}"
   ]
  },
  {
   "cell_type": "markdown",
   "metadata": {},
   "source": [
    "## 字典函数\n",
    "就像列表一样，字典键可以被分配到不同的值  \n",
    "但是与列表不同，新的字典键也可以被赋值，而不仅仅是已经存在的字典键"
   ]
  },
  {
   "cell_type": "code",
   "execution_count": 14,
   "metadata": {},
   "outputs": [
    {
     "name": "stdout",
     "output_type": "stream",
     "text": [
      "{1: 1, 2: 4, 3: 9, 4: 16, 8: 64}\n"
     ]
    }
   ],
   "source": [
    "squares = {1: 1, 2: 4, 3: 'Error', 4: 16,}\n",
    "squares[8] = 64 #  新的字典键也可以被赋值\n",
    "squares[3] = 9  #  已经存在的字典键可以被赋值\n",
    "print(squares)"
   ]
  },
  {
   "cell_type": "code",
   "execution_count": 15,
   "metadata": {},
   "outputs": [
    {
     "name": "stdout",
     "output_type": "stream",
     "text": [
      "17\n"
     ]
    }
   ],
   "source": [
    "# 这段代码的结果是什么？\n",
    "primes = {1: 2, 2: 3, 4: 7, 7: 17}\n",
    "print(primes[primes[4]])"
   ]
  },
  {
   "cell_type": "markdown",
   "metadata": {
    "collapsed": true
   },
   "source": [
    "要确定 **key（键）**是否在字典中，可以使用 **in** 和 ** not** ,就像可以使用列表一样"
   ]
  },
  {
   "cell_type": "code",
   "execution_count": 18,
   "metadata": {},
   "outputs": [
    {
     "name": "stdout",
     "output_type": "stream",
     "text": [
      "True\n",
      "False\n",
      "True\n"
     ]
    }
   ],
   "source": [
    "nums = {\n",
    "    1:'one',\n",
    "    2: 'two',\n",
    "    3: 'three',\n",
    "}\n",
    "print(1 in nums)\n",
    "print('three' in nums)\n",
    "print(4 not in nums)"
   ]
  },
  {
   "cell_type": "code",
   "execution_count": 21,
   "metadata": {},
   "outputs": [
    {
     "name": "stdout",
     "output_type": "stream",
     "text": [
      "No\n"
     ]
    }
   ],
   "source": [
    "# 如果键 112 存在于名为'pairs’的字典中，则打印‘Yes’,否则打印\"No\"\n",
    "pairs = {}\n",
    "if 112 in pairs:\n",
    "    print(\"Yes\")\n",
    "else:\n",
    "    print(\"No\")"
   ]
  },
  {
   "cell_type": "markdown",
   "metadata": {
    "collapsed": true
   },
   "source": [
    "## get\n",
    "一个很有用的字典方法是**get**。它与索引做同样的事情，但是如果在字典里找不到键，它将返回另一个指定的值（默认情况下为“None”）"
   ]
  },
  {
   "cell_type": "code",
   "execution_count": 22,
   "metadata": {},
   "outputs": [
    {
     "name": "stdout",
     "output_type": "stream",
     "text": [
      "[2, 3, 4]\n",
      "None\n",
      "not in dictionary\n"
     ]
    }
   ],
   "source": [
    "pairs = {\n",
    "    1: 'apple',\n",
    "    'orange': [2, 3, 4],\n",
    "    True: False,\n",
    "    None: 'True',\n",
    "    False: 1\n",
    "}\n",
    "print(pairs.get('orange'))\n",
    "print(pairs.get(7))    # 字典里找不到键，默认返回None \n",
    "print(pairs.get(12345, 'not in dictionary')) # 字典里未找到键，返回特定内容"
   ]
  },
  {
   "cell_type": "code",
   "execution_count": 24,
   "metadata": {},
   "outputs": [
    {
     "name": "stdout",
     "output_type": "stream",
     "text": [
      "8\n"
     ]
    }
   ],
   "source": [
    "# 该代码返回值是什么？\n",
    "fib = {1: 1, 2: 1, 3: 2, 4: 3}\n",
    "print(fib.get(4, 0) + fib.get(7, 5))"
   ]
  },
  {
   "cell_type": "markdown",
   "metadata": {
    "collapsed": true
   },
   "source": [
    "## 元组\n",
    "元组与列表非常相似，除了它们是不可变的。  \n",
    "而且，它们是使用**圆括号** 创建，而不是方括号"
   ]
  },
  {
   "cell_type": "code",
   "execution_count": 25,
   "metadata": {},
   "outputs": [
    {
     "name": "stdout",
     "output_type": "stream",
     "text": [
      "spam\n"
     ]
    },
    {
     "ename": "TypeError",
     "evalue": "'tuple' object does not support item assignment",
     "output_type": "error",
     "traceback": [
      "\u001b[1;31m---------------------------------------------------------------------------\u001b[0m",
      "\u001b[1;31mTypeError\u001b[0m                                 Traceback (most recent call last)",
      "\u001b[1;32m<ipython-input-25-6dc1c0d589e1>\u001b[0m in \u001b[0;36m<module>\u001b[1;34m()\u001b[0m\n\u001b[0;32m      4\u001b[0m \u001b[1;33m\u001b[0m\u001b[0m\n\u001b[0;32m      5\u001b[0m \u001b[1;31m# 尝试重新分配元组中的值会导致TypeError\u001b[0m\u001b[1;33m\u001b[0m\u001b[1;33m\u001b[0m\u001b[0m\n\u001b[1;32m----> 6\u001b[1;33m \u001b[0mwords\u001b[0m\u001b[1;33m[\u001b[0m\u001b[1;36m1\u001b[0m\u001b[1;33m]\u001b[0m \u001b[1;33m=\u001b[0m \u001b[1;34m'cheese'\u001b[0m\u001b[1;33m\u001b[0m\u001b[0m\n\u001b[0m",
      "\u001b[1;31mTypeError\u001b[0m: 'tuple' object does not support item assignment"
     ]
    }
   ],
   "source": [
    "words = ('spam', 'eggs', 'sausages',)\n",
    "# 可以使用索引访问元组中的值，就像使用列表一样\n",
    "print(words[0])\n",
    "\n",
    "# 尝试重新分配元组中的值会导致TypeError\n",
    "words[1] = 'cheese'"
   ]
  },
  {
   "cell_type": "markdown",
   "metadata": {
    "collapsed": true
   },
   "source": [
    "像列表和字典一样，元组也可以相互嵌套"
   ]
  },
  {
   "cell_type": "code",
   "execution_count": 26,
   "metadata": {
    "collapsed": true
   },
   "outputs": [],
   "source": [
    "# 列表\n",
    "list = ['one', 'two']\n",
    "\n",
    "# 字典\n",
    "dict = {1: 'one', 2: 'two'}\n",
    "\n",
    "# 元组\n",
    "tp = ('one', 'two')"
   ]
  },
  {
   "cell_type": "markdown",
   "metadata": {
    "collapsed": true
   },
   "source": [
    "元组可以在没有使用括号的情况下创建，只需用逗号分隔值"
   ]
  },
  {
   "cell_type": "code",
   "execution_count": 27,
   "metadata": {},
   "outputs": [
    {
     "name": "stdout",
     "output_type": "stream",
     "text": [
      "one\n"
     ]
    }
   ],
   "source": [
    "my_tuple = 'one', 'two', 'three'\n",
    "print(my_tuple[0])"
   ]
  },
  {
   "cell_type": "markdown",
   "metadata": {
    "collapsed": true
   },
   "source": [
    "使用空括号对创建空元祖"
   ]
  },
  {
   "cell_type": "code",
   "execution_count": 28,
   "metadata": {
    "collapsed": true
   },
   "outputs": [],
   "source": [
    "tp1 = ()"
   ]
  },
  {
   "cell_type": "markdown",
   "metadata": {
    "collapsed": true
   },
   "source": [
    "元组比列表快，但元组不能改变"
   ]
  },
  {
   "cell_type": "code",
   "execution_count": 29,
   "metadata": {},
   "outputs": [
    {
     "name": "stdout",
     "output_type": "stream",
     "text": [
      "(1, 2, 3)\n"
     ]
    }
   ],
   "source": [
    "tp = (1, (1, 2, 3))\n",
    "print(tp[1])"
   ]
  },
  {
   "cell_type": "markdown",
   "metadata": {},
   "source": [
    "## 列表切片\n",
    "列表切片（**List slices**）提供了从列表中检索值的更高级的方法。基本列表切片涉及到用两个以冒号分隔的整数索引列表。它返回一个包含索引之间旧列表中的所有的值的新列表。"
   ]
  },
  {
   "cell_type": "code",
   "execution_count": 5,
   "metadata": {},
   "outputs": [
    {
     "name": "stdout",
     "output_type": "stream",
     "text": [
      "[2, 3, 4, 5]\n",
      "[0]\n",
      "[7]\n"
     ]
    }
   ],
   "source": [
    "list = [0, 1, 2, 3, 4, 5, 6, 7, 8]\n",
    "print(list[2:6])\n",
    "print(list[0:1]) # 和范围参数一样，在一个slice中提供的第一个索引被包含在结果中，第二个索引没有\n",
    "print(list[-2:-1]) # 索引为负值时，将从列表末尾开始算起"
   ]
  },
  {
   "cell_type": "code",
   "execution_count": 6,
   "metadata": {},
   "outputs": [
    {
     "name": "stdout",
     "output_type": "stream",
     "text": [
      "[0, 1, 2, 3, 4, 5, 6]\n",
      "[7, 8]\n"
     ]
    }
   ],
   "source": [
    "list = [0, 1, 2, 3, 4, 5, 6, 7, 8]\n",
    "print(list[:7]) # 省略了切片中的第一个数字，则将从列表中的第一个元素开始\n",
    "print(list[7:]) # 省略了切片中的第二个数字，则将从列表中的第二个元素开始"
   ]
  },
  {
   "cell_type": "code",
   "execution_count": 7,
   "metadata": {},
   "outputs": [
    {
     "name": "stdout",
     "output_type": "stream",
     "text": [
      "['a', 'b']\n"
     ]
    }
   ],
   "source": [
    "# 取得列表中的前两个元素\n",
    "list = ['a', 'b', 'c', 'd']\n",
    "a = list[0:2]\n",
    "print(a)"
   ]
  },
  {
   "cell_type": "markdown",
   "metadata": {},
   "source": [
    "**注：**切片也可以在元组上使用"
   ]
  },
  {
   "cell_type": "markdown",
   "metadata": {},
   "source": [
    "#### 列表切片中还可以有第三个数字，表示间隔"
   ]
  },
  {
   "cell_type": "code",
   "execution_count": 9,
   "metadata": {},
   "outputs": [
    {
     "name": "stdout",
     "output_type": "stream",
     "text": [
      "[0, 2, 4, 6, 8]\n",
      "[2, 5]\n"
     ]
    }
   ],
   "source": [
    "list = [0, 1, 2, 3, 4, 5, 6, 7, 8, 9]\n",
    "print(list[::2]) # 最后一个参数表示间隔\n",
    "print(list[2:8:3]) # 包含从索引2到8间隔3的元素"
   ]
  },
  {
   "cell_type": "markdown",
   "metadata": {},
   "source": [
    "#### 使用列表切片反转列表"
   ]
  },
  {
   "cell_type": "code",
   "execution_count": 10,
   "metadata": {},
   "outputs": [
    {
     "name": "stdout",
     "output_type": "stream",
     "text": [
      "[9, 8, 7, 6, 5, 4, 3, 2, 1, 0]\n"
     ]
    }
   ],
   "source": [
    "list = [0, 1, 2, 3, 4, 5, 6, 7, 8, 9]\n",
    "print(list[::-1]) # 使用[::-1]作为切片是反转列表的常用方法"
   ]
  },
  {
   "cell_type": "code",
   "execution_count": 13,
   "metadata": {},
   "outputs": [
    {
     "name": "stdout",
     "output_type": "stream",
     "text": [
      "[7, 6]\n"
     ]
    }
   ],
   "source": [
    "list = [0, 1, 2, 3, 4, 5, 6, 7, 8, 9]\n",
    "print(list[7:5:-1]) # 如果切片第三个数值使用负值，则切片进行逆序截取"
   ]
  },
  {
   "cell_type": "code",
   "execution_count": 14,
   "metadata": {},
   "outputs": [
    {
     "name": "stdout",
     "output_type": "stream",
     "text": [
      "[]\n"
     ]
    }
   ],
   "source": [
    "print(list[5:7:-1])"
   ]
  },
  {
   "cell_type": "markdown",
   "metadata": {},
   "source": [
    "## 列表推导\n",
    "列表推导是遵循简单规则快速创建内容列表的方法"
   ]
  },
  {
   "cell_type": "code",
   "execution_count": 15,
   "metadata": {},
   "outputs": [
    {
     "name": "stdout",
     "output_type": "stream",
     "text": [
      "[0, 1, 8, 27, 64]\n"
     ]
    }
   ],
   "source": [
    "# a list comprehension\n",
    "cubes = [ i**3 for i in range(5)]\n",
    "\n",
    "print(cubes)"
   ]
  },
  {
   "cell_type": "code",
   "execution_count": 16,
   "metadata": {},
   "outputs": [
    {
     "name": "stdout",
     "output_type": "stream",
     "text": [
      "[0, 2, 4, 6, 8, 10, 12, 14, 16, 18]\n"
     ]
    }
   ],
   "source": [
    "# 产生偶数列表\n",
    "nums = [i*2 for i in range(10)]\n",
    "\n",
    "print(nums)"
   ]
  },
  {
   "cell_type": "markdown",
   "metadata": {},
   "source": [
    "列表推导还可以包含一个if语句产生列表中的值"
   ]
  },
  {
   "cell_type": "code",
   "execution_count": 17,
   "metadata": {},
   "outputs": [
    {
     "name": "stdout",
     "output_type": "stream",
     "text": [
      "[0, 4, 16, 36, 64]\n"
     ]
    }
   ],
   "source": [
    "evens = [i**2 for i in range(10) if i**2 % 2 == 0]\n",
    "\n",
    "print(evens)"
   ]
  },
  {
   "cell_type": "code",
   "execution_count": 18,
   "metadata": {},
   "outputs": [
    {
     "name": "stdout",
     "output_type": "stream",
     "text": [
      "[0, 3, 6, 9, 12, 15, 18]\n"
     ]
    }
   ],
   "source": [
    "# 创建0 到 20 内3 的倍数列表\n",
    "a = [i for i in range(20) if i%3 == 0]\n",
    "print(a)"
   ]
  },
  {
   "cell_type": "markdown",
   "metadata": {},
   "source": [
    "试图使用一个非常巨大的范围创建一个列表将导致一个MemoryError"
   ]
  },
  {
   "cell_type": "code",
   "execution_count": null,
   "metadata": {
    "collapsed": true
   },
   "outputs": [],
   "source": [
    "# 内存耗尽的示例\n",
    "# even = [2*i for i in range(10**100)]"
   ]
  },
  {
   "cell_type": "markdown",
   "metadata": {},
   "source": [
    " 这个问题使用**generators** 解决"
   ]
  },
  {
   "cell_type": "markdown",
   "metadata": {
    "collapsed": true
   },
   "source": [
    "## 字符串格式化\n",
    "要组合字符串和非字符串，将非字符串转换为字符串并添加它们  \n",
    "字符串格式化提供了一种更强大的方法来在字符串中嵌入非字符串。字符串格式化使用字符串的**format**方法来替换字符串中的多个参数"
   ]
  },
  {
   "cell_type": "code",
   "execution_count": 1,
   "metadata": {},
   "outputs": [
    {
     "name": "stdout",
     "output_type": "stream",
     "text": [
      "Number: 4 5 6\n"
     ]
    }
   ],
   "source": [
    "# string formatting\n",
    "nums = [4, 5, 6]\n",
    "msg = 'Number: {0} {1} {2}'.format(nums[0], nums[1], nums[2])\n",
    "print(msg)"
   ]
  },
  {
   "cell_type": "markdown",
   "metadata": {},
   "source": [
    "**format** 函数的每个参数都放在相应位置的字符串中，这个位置是用花括号{}确定的"
   ]
  },
  {
   "cell_type": "markdown",
   "metadata": {},
   "source": [
    "### 字符串格式化也可以使用命名参数完成"
   ]
  },
  {
   "cell_type": "code",
   "execution_count": 2,
   "metadata": {},
   "outputs": [
    {
     "name": "stdout",
     "output_type": "stream",
     "text": [
      "5, 12\n"
     ]
    }
   ],
   "source": [
    "a = '{x}, {y}'.format(x=5, y=12)\n",
    "print(a)"
   ]
  },
  {
   "cell_type": "code",
   "execution_count": 3,
   "metadata": {},
   "outputs": [
    {
     "name": "stdout",
     "output_type": "stream",
     "text": [
      "7, 9, 5\n"
     ]
    }
   ],
   "source": [
    "str = '{c}, {b}, {a}'.format(a=5, b=9, c=7)\n",
    "print(str)"
   ]
  },
  {
   "cell_type": "markdown",
   "metadata": {},
   "source": [
    "## 有用的函数\n",
    "### 字符串函数\n",
    "Python 包含许多有用的内置函数和方法来完成常见的任务。  \n",
    "**join** 以另一个字符串作为分隔符连接字符串列表  \n",
    "**replace** 用另一个替换字符串的一个子字符串  \n",
    "**startswith 和 endswith** 确定是否在字符串的开始和结尾处有一个子字符串  \n",
    "要更改字符串的大小写，可以使用**lower 和 upper**  \n",
    "**split** 方法与**jion**相反，把一个字符串转换成一个列表  "
   ]
  },
  {
   "cell_type": "code",
   "execution_count": 4,
   "metadata": {},
   "outputs": [
    {
     "name": "stdout",
     "output_type": "stream",
     "text": [
      "spam,eggs,ham\n",
      "Hello world\n",
      "True\n",
      "True\n"
     ]
    }
   ],
   "source": [
    "print(','.join(['spam', 'eggs', 'ham']))\n",
    "# 打印 'spam, eggs, ham'\n",
    "\n",
    "print('Hello ME'.replace('ME', 'world'))\n",
    "# 打印 'Hello world'\n",
    "\n",
    "print('This is a sentence.'.startswith('This'))\n",
    "# 打印 'True'\n",
    "\n",
    "print('This is a sentence.'.endswith('sentence.'))\n",
    "# 打印 'True'"
   ]
  },
  {
   "cell_type": "code",
   "execution_count": 6,
   "metadata": {},
   "outputs": [
    {
     "name": "stdout",
     "output_type": "stream",
     "text": [
      "THIS IS A SENTENCE.\n",
      "an all caps sentence\n",
      "['spam', ' eggs', ' ham']\n"
     ]
    }
   ],
   "source": [
    "print('This is a sentence.'.upper())  # 大写字符\n",
    "# 打印 ‘THIS IS A SENTENCE.’\n",
    "\n",
    "print('AN ALL CAPS SENTENCE'.lower())  # 小写字符\n",
    "# 打印 ‘an all caps senternce’\n",
    "\n",
    "print('spam, eggs, ham'.split(','))\n",
    "# 打印 '['spam', 'eggs', 'ham']'"
   ]
  },
  {
   "cell_type": "markdown",
   "metadata": {},
   "source": [
    "### 数字函数\n",
    "要查找某些数字或列表的最大值或最小值，可以使用**max 和 min**  \n",
    "要讲数字转换成绝对值，可以使用**abs**  \n",
    "要将数字四舍五入到一定的小数位数，可以使用**round**  \n",
    "要计算一个列表数字的总和，可以使用**sum**"
   ]
  },
  {
   "cell_type": "code",
   "execution_count": 8,
   "metadata": {},
   "outputs": [
    {
     "name": "stdout",
     "output_type": "stream",
     "text": [
      "0\n",
      "6\n",
      "5\n",
      "21\n"
     ]
    }
   ],
   "source": [
    "print(min([0, 1, 2, 3, 4, 5, 6]))\n",
    "print(max([0, 1, 2, 3, 4, 5, 6]))\n",
    "print(abs(-5))\n",
    "print(sum([0, 1, 2, 3, 4, 5, 6]))"
   ]
  },
  {
   "cell_type": "markdown",
   "metadata": {},
   "source": [
    "## 列表函数\n",
    "** all** 和 ** any** 将列表作为参数，通常在条件语句中使用  \n",
    "**all** 列表中所有值均为True时，结果为True，否则结果为False  \n",
    "**any** 列表中只要有一个为True，结果为True, 反之结果为False  \n",
    "**enumerate**函数可以用来同时迭代列表中的值和索引"
   ]
  },
  {
   "cell_type": "code",
   "execution_count": 9,
   "metadata": {},
   "outputs": [
    {
     "name": "stdout",
     "output_type": "stream",
     "text": [
      "All larger than 5\n",
      "At least one is even\n",
      "(0, 55)\n",
      "(1, 44)\n",
      "(2, 33)\n",
      "(3, 22)\n",
      "(4, 11)\n"
     ]
    }
   ],
   "source": [
    "nums = [55, 44, 33, 22, 11]\n",
    "if all([i>5 for i in nums]):\n",
    "    print('All larger than 5')\n",
    "    \n",
    "if any([i%2 == 0 for i in nums]):\n",
    "    print('At least one is even')\n",
    "\n",
    "for v in enumerate(nums):\n",
    "    print(v)"
   ]
  },
  {
   "cell_type": "code",
   "execution_count": 10,
   "metadata": {},
   "outputs": [
    {
     "name": "stdout",
     "output_type": "stream",
     "text": [
      "2\n"
     ]
    }
   ],
   "source": [
    "nums =[-1, 2, -3, 4, -5]\n",
    "if all ([abs(i)<3 for i in nums]):\n",
    "    print(1)\n",
    "else:\n",
    "    print(2)"
   ]
  },
  {
   "cell_type": "markdown",
   "metadata": {},
   "source": [
    "## 文本分析\n",
    "文本分析器，这个示例项目展示了一个分析示例文件以查找每个字符占用的文本百分比的程序"
   ]
  },
  {
   "cell_type": "code",
   "execution_count": 11,
   "metadata": {},
   "outputs": [
    {
     "name": "stdout",
     "output_type": "stream",
     "text": [
      "输入一个文件名：filename.txt\n",
      "hello \n",
      "world\n",
      "\n"
     ]
    }
   ],
   "source": [
    "filename = input('输入一个文件名：')\n",
    "with open(filename) as f:\n",
    "    text = f.read()\n",
    "    \n",
    "print(text)"
   ]
  },
  {
   "cell_type": "code",
   "execution_count": 13,
   "metadata": {},
   "outputs": [
    {
     "name": "stdout",
     "output_type": "stream",
     "text": [
      "输入一个文件名：filename.txt\n",
      "num_of_l: 3\n"
     ]
    }
   ],
   "source": [
    "# 定义一个函数，用来计算一个字符在字符串中出现的次数\n",
    "def count_char(text, char):\n",
    "    count = 0\n",
    "    for c in text:\n",
    "        if c == char:\n",
    "            count += 1\n",
    "    return count\n",
    "\n",
    "filename = input('输入一个文件名：')\n",
    "with open(filename) as f:\n",
    "    text = f.read()\n",
    "print('num_of_l:',count_char(text,'l'))"
   ]
  },
  {
   "cell_type": "markdown",
   "metadata": {},
   "source": [
    "将字符计数代码放入函数中方便多次运行"
   ]
  },
  {
   "cell_type": "code",
   "execution_count": 18,
   "metadata": {},
   "outputs": [
    {
     "name": "stdout",
     "output_type": "stream",
     "text": [
      "a-0.0%\n",
      "b-0.0%\n",
      "c-0.0%\n",
      "d-7.69%\n",
      "e-7.69%\n",
      "f-0.0%\n",
      "g-0.0%\n",
      "h-7.69%\n",
      "i-0.0%\n",
      "j-0.0%\n",
      "k-0.0%\n",
      "l-23.08%\n",
      "m-0.0%\n",
      "n-0.0%\n",
      "o-15.38%\n",
      "p-0.0%\n",
      "q-0.0%\n",
      "r-7.69%\n",
      "s-0.0%\n",
      "t-0.0%\n",
      "u-0.0%\n",
      "v-0.0%\n",
      "w-7.69%\n",
      "x-0.0%\n",
      "y-0.0%\n",
      "z-0.0%\n"
     ]
    }
   ],
   "source": [
    "# 程序的下一部分将查找每一个字母占据文本的百分比\n",
    "for char in 'abcdefghijklmnopqrstuvwxyz':\n",
    "    perc = 100*count_char(text,char)/len(text)\n",
    "    print('{0}-{1}%'.format(char,round(perc,2))) # round 函数减少打印的位数"
   ]
  },
  {
   "cell_type": "markdown",
   "metadata": {},
   "source": [
    "一个元组被描述为一个不可变的列表  \n",
    "没有return语句的函数返回None"
   ]
  },
  {
   "cell_type": "code",
   "execution_count": 21,
   "metadata": {},
   "outputs": [
    {
     "name": "stdout",
     "output_type": "stream",
     "text": [
      "44\n"
     ]
    }
   ],
   "source": [
    "nums = (55, 44, 33, 22)\n",
    "print(max(min(nums[:2]), abs(-42)))"
   ]
  },
  {
   "cell_type": "code",
   "execution_count": null,
   "metadata": {
    "collapsed": true
   },
   "outputs": [],
   "source": []
  }
 ],
 "metadata": {
  "kernelspec": {
   "display_name": "Python 3",
   "language": "python",
   "name": "python3"
  },
  "language_info": {
   "codemirror_mode": {
    "name": "ipython",
    "version": 3
   },
   "file_extension": ".py",
   "mimetype": "text/x-python",
   "name": "python",
   "nbconvert_exporter": "python",
   "pygments_lexer": "ipython3",
   "version": "3.6.1"
  }
 },
 "nbformat": 4,
 "nbformat_minor": 2
}
