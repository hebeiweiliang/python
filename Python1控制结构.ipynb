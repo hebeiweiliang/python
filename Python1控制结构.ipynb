{
 "cells": [
  {
   "cell_type": "markdown",
   "metadata": {},
   "source": [
    "# Python控制结构"
   ]
  },
  {
   "cell_type": "markdown",
   "metadata": {},
   "source": [
    "## 布尔与比较"
   ]
  },
  {
   "cell_type": "markdown",
   "metadata": {},
   "source": [
    "### 布尔类型\n",
    "Python中的另一种类型是布尔类型，有两个布尔值：True 和 False  \n",
    "可以通过比较值来创建它们，例如通过使用相等的运算符==。  \n",
    "**注意：不要把赋值（一个等号）与比较（两个等号）混淆**"
   ]
  },
  {
   "cell_type": "code",
   "execution_count": 1,
   "metadata": {},
   "outputs": [
    {
     "data": {
      "text/plain": [
       "True"
      ]
     },
     "execution_count": 1,
     "metadata": {},
     "output_type": "execute_result"
    }
   ],
   "source": [
    "my_boolean = True\n",
    "my_boolean"
   ]
  },
  {
   "cell_type": "code",
   "execution_count": 2,
   "metadata": {},
   "outputs": [
    {
     "data": {
      "text/plain": [
       "False"
      ]
     },
     "execution_count": 2,
     "metadata": {},
     "output_type": "execute_result"
    }
   ],
   "source": [
    "2 == 3"
   ]
  },
  {
   "cell_type": "code",
   "execution_count": 3,
   "metadata": {},
   "outputs": [
    {
     "data": {
      "text/plain": [
       "True"
      ]
     },
     "execution_count": 3,
     "metadata": {},
     "output_type": "execute_result"
    }
   ],
   "source": [
    "'hello' == \"hello\""
   ]
  },
  {
   "cell_type": "markdown",
   "metadata": {},
   "source": [
    "### 比较运算符\n",
    "不等于运算符 ！=，被比较的项不相等的情况下值为True,如果想等，则值为False"
   ]
  },
  {
   "cell_type": "code",
   "execution_count": 4,
   "metadata": {},
   "outputs": [
    {
     "data": {
      "text/plain": [
       "False"
      ]
     },
     "execution_count": 4,
     "metadata": {},
     "output_type": "execute_result"
    }
   ],
   "source": [
    "1 != 1"
   ]
  },
  {
   "cell_type": "code",
   "execution_count": 5,
   "metadata": {},
   "outputs": [
    {
     "data": {
      "text/plain": [
       "True"
      ]
     },
     "execution_count": 5,
     "metadata": {},
     "output_type": "execute_result"
    }
   ],
   "source": [
    "'eleven' != 'seven'"
   ]
  },
  {
   "cell_type": "code",
   "execution_count": 6,
   "metadata": {},
   "outputs": [
    {
     "data": {
      "text/plain": [
       "True"
      ]
     },
     "execution_count": 6,
     "metadata": {},
     "output_type": "execute_result"
    }
   ],
   "source": [
    "2 != 10"
   ]
  },
  {
   "cell_type": "markdown",
   "metadata": {},
   "source": [
    "### 比较运算符\n",
    "Python 也有运算符来判断一个数字（浮点数或整数）是大于还是小于另一个数。这些运算符分别是>和<。 以及大于等于运算符>=，小于等于运算符<=。  \n",
    "**也可以使用大于和小于运算符来按字母顺序比较字符串**"
   ]
  },
  {
   "cell_type": "code",
   "execution_count": 7,
   "metadata": {},
   "outputs": [
    {
     "data": {
      "text/plain": [
       "True"
      ]
     },
     "execution_count": 7,
     "metadata": {},
     "output_type": "execute_result"
    }
   ],
   "source": [
    "8 > 5"
   ]
  },
  {
   "cell_type": "code",
   "execution_count": 8,
   "metadata": {},
   "outputs": [
    {
     "data": {
      "text/plain": [
       "False"
      ]
     },
     "execution_count": 8,
     "metadata": {},
     "output_type": "execute_result"
    }
   ],
   "source": [
    "15 < 15"
   ]
  },
  {
   "cell_type": "code",
   "execution_count": 9,
   "metadata": {},
   "outputs": [
    {
     "data": {
      "text/plain": [
       "False"
      ]
     },
     "execution_count": 9,
     "metadata": {},
     "output_type": "execute_result"
    }
   ],
   "source": [
    "7 > 7.0"
   ]
  },
  {
   "cell_type": "code",
   "execution_count": 10,
   "metadata": {},
   "outputs": [
    {
     "data": {
      "text/plain": [
       "True"
      ]
     },
     "execution_count": 10,
     "metadata": {},
     "output_type": "execute_result"
    }
   ],
   "source": [
    "7 >= 7.0"
   ]
  },
  {
   "cell_type": "markdown",
   "metadata": {},
   "source": [
    "## if 语句\n",
    "如果某个条件成立，可以使用**if 语句** 来运行代码  \n",
    "如果表达式的计算结果为True,则执行一些语句，否则，不执行  \n",
    "语法如下：  \n",
    "  &ensp; if 表达式：  \n",
    "  &ensp; &ensp; 一些代码  \n",
    "Python使用缩进（一行的开始出的空白）来分隔代码块。而其他语言，比如C语言使用大括号来实现这一点，**但是在Python 中必须使用缩进**"
   ]
  },
  {
   "cell_type": "code",
   "execution_count": 11,
   "metadata": {},
   "outputs": [
    {
     "name": "stdout",
     "output_type": "stream",
     "text": [
      "10大于5\n",
      "Program ended\n"
     ]
    }
   ],
   "source": [
    "# _*_coding: UTF-8 _*_\n",
    "if 10 > 5:    # 注意if 语句中表达式末尾是冒号。\n",
    "    print('10大于5')\n",
    "print('Program ended')"
   ]
  },
  {
   "cell_type": "markdown",
   "metadata": {},
   "source": [
    "if 语句允许**嵌套**使用，可以执行更复杂的判断。"
   ]
  },
  {
   "cell_type": "code",
   "execution_count": 12,
   "metadata": {},
   "outputs": [
    {
     "name": "stdout",
     "output_type": "stream",
     "text": [
      "Bigger than 5\n",
      "Between 5 and 47\n"
     ]
    }
   ],
   "source": [
    "num = 15\n",
    "if num > 5:\n",
    "    print('Bigger than 5')\n",
    "    if num <= 47:\n",
    "        print('Between 5 and 47')"
   ]
  },
  {
   "cell_type": "code",
   "execution_count": 13,
   "metadata": {},
   "outputs": [
    {
     "name": "stdout",
     "output_type": "stream",
     "text": [
      "3\n"
     ]
    }
   ],
   "source": [
    "num = 7\n",
    "if num > 3:\n",
    "    print('3')\n",
    "    if num < 5:\n",
    "        print('5')\n",
    "        if num == 7:\n",
    "            print('7')"
   ]
  },
  {
   "cell_type": "markdown",
   "metadata": {},
   "source": [
    "##  else 语句\n",
    "else 语句跟随在if语句之后，当if语句的计算结果为False时执行else代码块。   \n",
    "** 和if语句一样，块内的代码应该缩进。**"
   ]
  },
  {
   "cell_type": "code",
   "execution_count": 14,
   "metadata": {},
   "outputs": [
    {
     "name": "stdout",
     "output_type": "stream",
     "text": [
      "No\n"
     ]
    }
   ],
   "source": [
    "x = 4\n",
    "if x == 5:\n",
    "    print('Yes')\n",
    "else:\n",
    "    print('No')\n"
   ]
  },
  {
   "cell_type": "code",
   "execution_count": 15,
   "metadata": {},
   "outputs": [
    {
     "name": "stdout",
     "output_type": "stream",
     "text": [
      "else\n"
     ]
    }
   ],
   "source": [
    "if 1+1 == 2:\n",
    "    if 2*2 == 8:\n",
    "        print('if')\n",
    "    else:\n",
    "        print('else')"
   ]
  },
  {
   "cell_type": "markdown",
   "metadata": {},
   "source": [
    "#### elif语句\n",
    "elif(else if 的简写) 是if和else语句使用的快捷方式  \n",
    "一系列if elif语句可以有一个最终的else块。如果if 或者elif条件均不成立是会调用else代码块。"
   ]
  },
  {
   "cell_type": "code",
   "execution_count": 18,
   "metadata": {},
   "outputs": [
    {
     "name": "stdout",
     "output_type": "stream",
     "text": [
      "Number is 7\n"
     ]
    }
   ],
   "source": [
    "num == 7\n",
    "if num == 5:\n",
    "    print('Number is 5')\n",
    "elif num == 11:\n",
    "    print('Number is 11')\n",
    "elif num == 7:\n",
    "    print('Number is 7')\n",
    "else:\n",
    "    print(\"Number isn't 5, 11 or 7\")"
   ]
  },
  {
   "cell_type": "markdown",
   "metadata": {},
   "source": [
    "## 逻辑运算符\n",
    "逻辑运算符用于为依赖于多个条件的if语句创建更复杂的条件。  \n",
    "Python 的布尔运算符分别是and，or 和not。其他语言中使用符号（&&，||和！）  \n",
    "#### and 运算符\n",
    "**and**运算符有两个参数，有且只有两个参数均为True时。结果为True,否则结果为False"
   ]
  },
  {
   "cell_type": "code",
   "execution_count": 19,
   "metadata": {},
   "outputs": [
    {
     "name": "stdout",
     "output_type": "stream",
     "text": [
      "True\n",
      "False\n",
      "False\n",
      "False\n"
     ]
    }
   ],
   "source": [
    "print(1 == 1 and 2 == 2)\n",
    "print(1 == 1 and 2 == 3)\n",
    "print(1 != 1 and 2 == 2)\n",
    "print( 2 < 1 and 3 > 6)"
   ]
  },
  {
   "cell_type": "code",
   "execution_count": 20,
   "metadata": {},
   "outputs": [
    {
     "name": "stdout",
     "output_type": "stream",
     "text": [
      "true\n"
     ]
    }
   ],
   "source": [
    "if (1 == 1) and (2 + 2 > 3):\n",
    "    print('true')\n",
    "else:\n",
    "    print('flase')"
   ]
  },
  {
   "cell_type": "markdown",
   "metadata": {},
   "source": [
    "#### 或运算符\n",
    "or运算符也有两个参数。如果其参数中的任何一个（或两个）为True,则结果为True；如果两个参数均为False,则结果为False"
   ]
  },
  {
   "cell_type": "code",
   "execution_count": 21,
   "metadata": {},
   "outputs": [
    {
     "name": "stdout",
     "output_type": "stream",
     "text": [
      "True\n",
      "True\n",
      "True\n",
      "False\n"
     ]
    }
   ],
   "source": [
    "print(1 == 1 or 2 == 2)\n",
    "print(1 == 1 or 2 == 3)\n",
    "print(1 != 1 or 2 == 2)\n",
    "print(2 < 1 or 3 > 6)"
   ]
  },
  {
   "cell_type": "markdown",
   "metadata": {},
   "source": [
    "### 非运算\n",
    "not 运算符与其他运算符不同的是，它只需要一个参数，运算结果将是其求反。  \n",
    "如果参数为True求得结果为False，如果参数为False求得结果为True."
   ]
  },
  {
   "cell_type": "code",
   "execution_count": 22,
   "metadata": {},
   "outputs": [
    {
     "name": "stdout",
     "output_type": "stream",
     "text": [
      "False\n",
      "True\n"
     ]
    }
   ],
   "source": [
    "print(not 1 == 1)\n",
    "print(not 1 > 7)"
   ]
  },
  {
   "cell_type": "code",
   "execution_count": 23,
   "metadata": {},
   "outputs": [
    {
     "name": "stdout",
     "output_type": "stream",
     "text": [
      "2\n"
     ]
    }
   ],
   "source": [
    "if not True:\n",
    "    print('1')\n",
    "elif not(1 + 1 == 3):\n",
    "    print('2')\n",
    "else:\n",
    "    print('3')"
   ]
  },
  {
   "cell_type": "markdown",
   "metadata": {},
   "source": [
    "## 运算符优先级\n",
    "它是运算次序的数学思想的延伸（比如先乘除后加减）不过它也包含其他运算符，如逻辑运算符，位运算符，赋值运算符等  \n",
    "== 具有比 or 更高的优先级"
   ]
  },
  {
   "cell_type": "code",
   "execution_count": 24,
   "metadata": {},
   "outputs": [
    {
     "name": "stdout",
     "output_type": "stream",
     "text": [
      "True\n",
      "False\n",
      "True\n"
     ]
    }
   ],
   "source": [
    "print(False == False or True)\n",
    "print(False == (False or True))\n",
    "print((False == False) or True)"
   ]
  },
  {
   "cell_type": "markdown",
   "metadata": {},
   "source": [
    "Python 的操作顺序与正常数学的顺序相同，先是括号，然后是取幂，然后是乘除，然后是加减"
   ]
  },
  {
   "cell_type": "code",
   "execution_count": 25,
   "metadata": {},
   "outputs": [
    {
     "name": "stdout",
     "output_type": "stream",
     "text": [
      "No\n"
     ]
    }
   ],
   "source": [
    "if 1 + 1 * 3 == 6:\n",
    "    print('Yes')\n",
    "else:\n",
    "    print('No')"
   ]
  },
  {
   "cell_type": "markdown",
   "metadata": {},
   "source": [
    "![images](./images/运算符优先级.png)"
   ]
  },
  {
   "cell_type": "code",
   "execution_count": 26,
   "metadata": {},
   "outputs": [
    {
     "name": "stdout",
     "output_type": "stream",
     "text": [
      "No\n"
     ]
    }
   ],
   "source": [
    "x = 4\n",
    "y = 2\n",
    "if not 1 + 1 == y or x == 4 and 7== 8:\n",
    "    print('Yes')\n",
    "elif x > y:\n",
    "    print('No')"
   ]
  },
  {
   "cell_type": "markdown",
   "metadata": {},
   "source": [
    "### while循环\n",
    "如果if 语句中计算结果为True，则if 语句会运行一次，如果计算结果为False，则if 语句不会运行。  \n",
    "while 语句是相似的，while 只要条件为True，它内部的语句就会重复执行(迭代)，条件为False,就停止while循环，然后继续执行之后的代码。"
   ]
  },
  {
   "cell_type": "code",
   "execution_count": 27,
   "metadata": {},
   "outputs": [
    {
     "name": "stdout",
     "output_type": "stream",
     "text": [
      "1\n",
      "2\n",
      "3\n",
      "4\n",
      "5\n",
      "Finished!\n"
     ]
    }
   ],
   "source": [
    "i = 1\n",
    "while i <= 5:\n",
    "    print(i)\n",
    "    i = i + 1\n",
    "print('Finished!')"
   ]
  },
  {
   "cell_type": "markdown",
   "metadata": {},
   "source": [
    "无限循环是一种特殊的while循环；它永远不会停止运行。它的条件永远是True。"
   ]
  },
  {
   "cell_type": "code",
   "execution_count": null,
   "metadata": {
    "collapsed": true
   },
   "outputs": [],
   "source": [
    "while 1 == 1:   # 该程序将无限的打印“In the loop” Ctrl+C来停止程序的执行\n",
    "    print('In the loop')"
   ]
  },
  {
   "cell_type": "markdown",
   "metadata": {},
   "source": [
    "### break 语句\n",
    "要想提前结束while循环，可以使用break语句，在循环中，遇到break语句会立即结束循环"
   ]
  },
  {
   "cell_type": "code",
   "execution_count": 31,
   "metadata": {},
   "outputs": [
    {
     "name": "stdout",
     "output_type": "stream",
     "text": [
      "0\n",
      "1\n",
      "2\n",
      "3\n",
      "4\n",
      "5\n",
      "Breaking\n",
      "Finished\n"
     ]
    }
   ],
   "source": [
    "i = 0\n",
    "while 1 == 1:\n",
    "    print(i)\n",
    "    i = i + 1\n",
    "    if i > 5:\n",
    "        print('Breaking')\n",
    "        break\n",
    "print('Finished')"
   ]
  },
  {
   "cell_type": "code",
   "execution_count": 32,
   "metadata": {},
   "outputs": [
    {
     "name": "stdout",
     "output_type": "stream",
     "text": [
      "5\n",
      "4\n",
      "3\n"
     ]
    }
   ],
   "source": [
    "i = 5\n",
    "while True:\n",
    "    print(i)\n",
    "    i = i - 1\n",
    "    if i <= 2:\n",
    "        break"
   ]
  },
  {
   "cell_type": "markdown",
   "metadata": {},
   "source": [
    "### continue 语句\n",
    "与break不同的是，continue语句是提前结束本次循环，进入下一循环"
   ]
  },
  {
   "cell_type": "code",
   "execution_count": 37,
   "metadata": {},
   "outputs": [
    {
     "name": "stdout",
     "output_type": "stream",
     "text": [
      "1\n",
      "Skipping 2\n",
      "3\n",
      "4\n",
      "Breaking\n",
      "Finished\n"
     ]
    }
   ],
   "source": [
    "i = 0\n",
    "while True:\n",
    "    i = i + 1\n",
    "    if i == 2:\n",
    "        print('Skipping 2')\n",
    "        continue\n",
    "    if i == 5:\n",
    "        print('Breaking')\n",
    "        break\n",
    "    print(i)\n",
    "print('Finished')"
   ]
  },
  {
   "cell_type": "markdown",
   "metadata": {},
   "source": [
    "### 列表\n",
    "列表是Python中的另一种类型的对象，他们被用来存储索引元素列表  \n",
    "方括号中用逗号分隔元素来创建一个列表。  \n",
    "列表中的某个元素可以通过使用方括号中的**索引**来访问  \n",
    "列表的索引是从0开始的"
   ]
  },
  {
   "cell_type": "code",
   "execution_count": 40,
   "metadata": {},
   "outputs": [
    {
     "name": "stdout",
     "output_type": "stream",
     "text": [
      "Hello\n",
      "world\n",
      "!\n"
     ]
    }
   ],
   "source": [
    "words = ['Hello','world','!']\n",
    "print(words[0])\n",
    "print(words[1])\n",
    "print(words[2])"
   ]
  },
  {
   "cell_type": "markdown",
   "metadata": {},
   "source": [
    "用一对空的方括号创建空列表"
   ]
  },
  {
   "cell_type": "code",
   "execution_count": 41,
   "metadata": {},
   "outputs": [
    {
     "name": "stdout",
     "output_type": "stream",
     "text": [
      "[]\n"
     ]
    }
   ],
   "source": [
    "empty_list = []\n",
    "print(empty_list)"
   ]
  },
  {
   "cell_type": "markdown",
   "metadata": {},
   "source": [
    "大多数情况下，列表中的最后一项不会带逗号，然而，在那放置一个是完全有效的，在某些情况下是鼓励的。"
   ]
  },
  {
   "cell_type": "code",
   "execution_count": 43,
   "metadata": {
    "collapsed": true
   },
   "outputs": [],
   "source": [
    "a = [1,2,3,]"
   ]
  },
  {
   "cell_type": "code",
   "execution_count": 44,
   "metadata": {},
   "outputs": [
    {
     "data": {
      "text/plain": [
       "[1, 2, 3]"
      ]
     },
     "execution_count": 44,
     "metadata": {},
     "output_type": "execute_result"
    }
   ],
   "source": [
    "print(a)"
   ]
  },
  {
   "cell_type": "code",
   "execution_count": 45,
   "metadata": {},
   "outputs": [
    {
     "data": {
      "text/plain": [
       "3"
      ]
     },
     "execution_count": 45,
     "metadata": {},
     "output_type": "execute_result"
    }
   ],
   "source": [
    "len(a)"
   ]
  },
  {
   "cell_type": "markdown",
   "metadata": {},
   "source": [
    "通常情况下，列表包含单种数据类型的元素，但也可以包含几个不同的类型，**列表也可以嵌套在其他列表中。**"
   ]
  },
  {
   "cell_type": "code",
   "execution_count": 46,
   "metadata": {},
   "outputs": [
    {
     "name": "stdout",
     "output_type": "stream",
     "text": [
      "0\n",
      "[1, 2, 3]\n",
      "3\n"
     ]
    }
   ],
   "source": [
    "number = 3\n",
    "things = ['string',0,[1,2,number],4.56]\n",
    "print(things[1])\n",
    "print(things[2])\n",
    "print(things[2][2])"
   ]
  },
  {
   "cell_type": "markdown",
   "metadata": {},
   "source": [
    "引用超出列表纸的索引范围将导致IndexError错误  \n",
    "一些类型，比如字符串，可以像列表一样编入索引。索引字符串的行为就像你索引包含字符串中每个字符的列表一样。"
   ]
  },
  {
   "cell_type": "code",
   "execution_count": 52,
   "metadata": {},
   "outputs": [
    {
     "name": "stdout",
     "output_type": "stream",
     "text": [
      "w\n"
     ]
    }
   ],
   "source": [
    "str = 'Hello world!'\n",
    "print(str[6])"
   ]
  },
  {
   "cell_type": "markdown",
   "metadata": {},
   "source": [
    "### 列表操作\n",
    "列表中某个索引处的元素值可以别重新分配"
   ]
  },
  {
   "cell_type": "code",
   "execution_count": 54,
   "metadata": {},
   "outputs": [
    {
     "name": "stdout",
     "output_type": "stream",
     "text": [
      "[7, 7, 5, 7, 7]\n"
     ]
    }
   ],
   "source": [
    "nums = [7,7,7,7,7]\n",
    "nums[2] = 5\n",
    "print(nums)"
   ]
  },
  {
   "cell_type": "markdown",
   "metadata": {},
   "source": [
    "列表可以像字符串一样添加和相乘"
   ]
  },
  {
   "cell_type": "code",
   "execution_count": 55,
   "metadata": {},
   "outputs": [
    {
     "name": "stdout",
     "output_type": "stream",
     "text": [
      "[1, 2, 3, 4, 5, 6]\n",
      "[1, 2, 3, 1, 2, 3, 1, 2, 3]\n"
     ]
    }
   ],
   "source": [
    "nums = [1,2,3]\n",
    "print(nums+[4,5,6])\n",
    "print(nums*3)"
   ]
  },
  {
   "cell_type": "markdown",
   "metadata": {},
   "source": [
    "列表和字符串在很多方面是相似的，字符串可以被认为是不能改变的字符列表"
   ]
  },
  {
   "cell_type": "markdown",
   "metadata": {},
   "source": [
    "要检查项目是否在列表中，可以用**in**运算符。如果项目在列表中出现一次或多次，则返回True,否则返回False"
   ]
  },
  {
   "cell_type": "code",
   "execution_count": 56,
   "metadata": {},
   "outputs": [
    {
     "name": "stdout",
     "output_type": "stream",
     "text": [
      "True\n",
      "True\n",
      "False\n"
     ]
    }
   ],
   "source": [
    "words = ['spam','egg','spam','sausage']\n",
    "print('spam'in words)\n",
    "print(\"egg\" in words)\n",
    "print('tomato' in words)"
   ]
  },
  {
   "cell_type": "markdown",
   "metadata": {},
   "source": [
    "in 运算符也用于确定一个字符串是否是另一个字符串的子字符串"
   ]
  },
  {
   "cell_type": "code",
   "execution_count": 57,
   "metadata": {},
   "outputs": [
    {
     "name": "stdout",
     "output_type": "stream",
     "text": [
      "True\n"
     ]
    }
   ],
   "source": [
    "name = 'weiliang'\n",
    "print('liang' in name)"
   ]
  },
  {
   "cell_type": "markdown",
   "metadata": {},
   "source": [
    "检查项目是否不在列表中，可以使用not操作符；"
   ]
  },
  {
   "cell_type": "code",
   "execution_count": 58,
   "metadata": {},
   "outputs": [
    {
     "name": "stdout",
     "output_type": "stream",
     "text": [
      "True\n",
      "True\n",
      "False\n",
      "False\n"
     ]
    }
   ],
   "source": [
    "nums = [1,2,3]\n",
    "print(not 4 in nums)\n",
    "print(4 not in nums)\n",
    "print(not 3 in nums)\n",
    "print(3 not in nums)"
   ]
  },
  {
   "cell_type": "markdown",
   "metadata": {},
   "source": [
    "### 列表函数\n",
    "可以使用 append 方法将一个元素添加到现有的列表的末尾"
   ]
  },
  {
   "cell_type": "code",
   "execution_count": 60,
   "metadata": {},
   "outputs": [
    {
     "name": "stdout",
     "output_type": "stream",
     "text": [
      "[1, 2, 3, 4]\n"
     ]
    }
   ],
   "source": [
    "nums = [1,2,3]\n",
    "nums.append(4)\n",
    "print(nums)"
   ]
  },
  {
   "cell_type": "markdown",
   "metadata": {},
   "source": [
    "要获取列表中的项目数量，可以使用**len**函数"
   ]
  },
  {
   "cell_type": "code",
   "execution_count": 61,
   "metadata": {},
   "outputs": [
    {
     "name": "stdout",
     "output_type": "stream",
     "text": [
      "5\n"
     ]
    }
   ],
   "source": [
    "nums = [1,2,3,4,5]\n",
    "print(len(nums))"
   ]
  },
  {
   "cell_type": "markdown",
   "metadata": {},
   "source": [
    "与append方法不同，len是一个正常的函数，而不是一个方法，这意味着它写在被调用的列表之前"
   ]
  },
  {
   "cell_type": "markdown",
   "metadata": {},
   "source": [
    "insert 方法与append相似，不同之处在于它允许在列表任何位置插入一个新元素，而不仅仅在最后"
   ]
  },
  {
   "cell_type": "code",
   "execution_count": 62,
   "metadata": {},
   "outputs": [
    {
     "name": "stdout",
     "output_type": "stream",
     "text": [
      "['L', 'i', 'a', 'n', 'g']\n"
     ]
    }
   ],
   "source": [
    "str = ['L','a','n','g']\n",
    "index = 1\n",
    "str.insert(index,'i')\n",
    "print(str)"
   ]
  },
  {
   "cell_type": "markdown",
   "metadata": {},
   "source": [
    "### 范围（range）\n",
    "使用范围函数创建一个顺序的数字列表。"
   ]
  },
  {
   "cell_type": "code",
   "execution_count": 63,
   "metadata": {},
   "outputs": [
    {
     "name": "stdout",
     "output_type": "stream",
     "text": [
      "[0, 1, 2, 3, 4, 5, 6, 7, 8, 9]\n"
     ]
    }
   ],
   "source": [
    "numbers = list(range(10))\n",
    "print(numbers)"
   ]
  },
  {
   "cell_type": "markdown",
   "metadata": {},
   "source": [
    "range 本身会创建一个range对象，所以调用list函数将其转换为列表。"
   ]
  },
  {
   "cell_type": "markdown",
   "metadata": {},
   "source": [
    "范围（range）\n",
    "如果使用一个参数调用Range,则会产生0到该参数值的对象；\n",
    "如果使用两个参数调用范围，则会产生第一个值到第二个值的对象"
   ]
  },
  {
   "cell_type": "code",
   "execution_count": 66,
   "metadata": {},
   "outputs": [
    {
     "name": "stdout",
     "output_type": "stream",
     "text": [
      "[3, 4, 5, 6, 7]\n",
      "True\n"
     ]
    }
   ],
   "source": [
    "numbers = list(range(3,8))\n",
    "print(numbers)\n",
    "print(range(20)==range(0,20))"
   ]
  },
  {
   "cell_type": "markdown",
   "metadata": {},
   "source": [
    "Range可以有三个参数，它决定了产生的序列的间隔。**第三个参数必须是一个整数。**"
   ]
  },
  {
   "cell_type": "code",
   "execution_count": 68,
   "metadata": {},
   "outputs": [
    {
     "name": "stdout",
     "output_type": "stream",
     "text": [
      "[5, 8, 11, 14, 17]\n"
     ]
    }
   ],
   "source": [
    "numbers = list(range(5,20,3))\n",
    "print(numbers)"
   ]
  },
  {
   "cell_type": "markdown",
   "metadata": {},
   "source": [
    "### for循环\n",
    "有时需要在列表中的每个项目上执行代码（迭代）（遍历列表），它可以用一个while循环和一个计数器来完成"
   ]
  },
  {
   "cell_type": "code",
   "execution_count": 69,
   "metadata": {},
   "outputs": [
    {
     "name": "stdout",
     "output_type": "stream",
     "text": [
      "hello!\n",
      "world!\n",
      "spam!\n",
      "eggs!\n"
     ]
    }
   ],
   "source": [
    "words = ['hello', 'world','spam','eggs']\n",
    "counter = 0\n",
    "max_index = len(words)-1\n",
    "\n",
    "while counter <= max_index:\n",
    "    word = words[counter]\n",
    "    print(word + '!')\n",
    "    counter = counter + 1"
   ]
  },
  {
   "cell_type": "markdown",
   "metadata": {},
   "source": [
    "使用while循环遍历列表需要相当多的代码，所以Python提供了**for**循环作为完成同样事情的快捷方式"
   ]
  },
  {
   "cell_type": "code",
   "execution_count": 70,
   "metadata": {},
   "outputs": [
    {
     "name": "stdout",
     "output_type": "stream",
     "text": [
      "hello!\n",
      "world!\n",
      "spam!\n",
      "eggs!\n"
     ]
    }
   ],
   "source": [
    "words = ['hello','world','spam','eggs']\n",
    "for word in words:\n",
    "    print(word + '!')"
   ]
  },
  {
   "cell_type": "markdown",
   "metadata": {},
   "source": [
    "Python 中的**for** 循环就像其他语言中的**foreach**循环一样"
   ]
  },
  {
   "cell_type": "markdown",
   "metadata": {},
   "source": [
    "**for** 循环通常用于重复某些代码一定次数。这是通过将循环与**范围(range)**对象结合来完成的"
   ]
  },
  {
   "cell_type": "code",
   "execution_count": 71,
   "metadata": {},
   "outputs": [
    {
     "name": "stdout",
     "output_type": "stream",
     "text": [
      "hello!\n",
      "hello!\n",
      "hello!\n",
      "hello!\n",
      "hello!\n"
     ]
    }
   ],
   "source": [
    "for i in range(5):\n",
    "    print('hello!')"
   ]
  },
  {
   "cell_type": "markdown",
   "metadata": {},
   "source": [
    "在for循环中使用range对象时，不需要调用list，因为它没有被索引，所以不需要列表。"
   ]
  },
  {
   "cell_type": "markdown",
   "metadata": {},
   "source": [
    "打印[0,20]之内的欧数值"
   ]
  },
  {
   "cell_type": "code",
   "execution_count": 73,
   "metadata": {},
   "outputs": [
    {
     "name": "stdout",
     "output_type": "stream",
     "text": [
      "0\n",
      "2\n",
      "4\n",
      "6\n",
      "8\n"
     ]
    }
   ],
   "source": [
    "for i in range(0,10,2):\n",
    "    print(i)"
   ]
  },
  {
   "cell_type": "markdown",
   "metadata": {},
   "source": [
    "#### 创建一个计算器\n",
    "关于Python项目的例子：一个简单的计算器。  \n",
    "第一部分是整个菜单，接受用户的输入，直到用户输入‘quit’,所以使用while循环"
   ]
  },
  {
   "cell_type": "code",
   "execution_count": 1,
   "metadata": {},
   "outputs": [
    {
     "name": "stdout",
     "output_type": "stream",
     "text": [
      "选项：\n",
      "输入'add'计算两个数相加\n",
      "输入'subtract'计算两个数相减\n",
      "输入'multiply'计算两个数相乘\n",
      "输入'divide'计算两个宿相除\n",
      "输入'quit'退出程序\n",
      ":add\n",
      "要执行加法操作\n",
      "输入一个数字：2\n",
      "输入另一个数字：3\n",
      "结果是：5.0\n",
      "选项：\n",
      "输入'add'计算两个数相加\n",
      "输入'subtract'计算两个数相减\n",
      "输入'multiply'计算两个数相乘\n",
      "输入'divide'计算两个宿相除\n",
      "输入'quit'退出程序\n",
      ":quit\n"
     ]
    }
   ],
   "source": [
    "while True:\n",
    "    print('选项：')\n",
    "    print(\"输入'add'计算两个数相加\")\n",
    "    print(\"输入'subtract'计算两个数相减\")\n",
    "    print(\"输入'multiply'计算两个数相乘\")\n",
    "    print(\"输入'divide'计算两个宿相除\")\n",
    "    print(\"输入'quit'退出程序\")\n",
    "    user_input = input(':')\n",
    "    \n",
    "    if user_input == 'quit':\n",
    "        break\n",
    "        \n",
    "    ## 当用户输入'add' 时，程序会提示输入两个数字，并存储在相应的变量中\n",
    "    elif user_input == 'add':  \n",
    "        print('要执行加法操作')\n",
    "        num1 = float(input('输入一个数字：')) ## 获取用户要处理的数字\n",
    "        num2 = float(input('输入另一个数字：'))\n",
    "        result = str(num1 + num2)\n",
    "        print('结果是：' + result)\n",
    "        \n",
    "    elif user_input == 'subtract':\n",
    "        print('要执行减法操作')\n",
    "        num1 = float(input('输入一个数字：'))\n",
    "        num2 = float(input('输入另一个数字：'))\n",
    "        rusult = str(num1 - num2)\n",
    "        print('结果是：' + result)\n",
    "        \n",
    "    elif user_input == 'multiply':\n",
    "        print('要执行乘法操作')\n",
    "        num1 = float(input('输入一个数字：'))\n",
    "        num2 = float(input('输入另一个数字：'))\n",
    "        result = str(num1 * num2)\n",
    "        print('结果是：' + result)\n",
    "        \n",
    "    elif user_input == 'divide':\n",
    "        print('要执行除法操作')\n",
    "        num1 = float(input('输入一个数字：'))\n",
    "        num2 = float(input('输入另一个数字：'))\n",
    "        result = str(num1 / num2)\n",
    "        print('结果是：'+ result)\n",
    "        \n",
    "    else:\n",
    "        print('位置输入，请根据提示输入！')"
   ]
  },
  {
   "cell_type": "markdown",
   "metadata": {
    "collapsed": true
   },
   "source": [
    "事实上，如果用户在提示输入数字时输入非数字输入，则此代码会崩溃，我们在之后的模块中查看这样的问题"
   ]
  },
  {
   "cell_type": "markdown",
   "metadata": {},
   "source": [
    "### 打印1到9之间的所有奇数"
   ]
  },
  {
   "cell_type": "code",
   "execution_count": 2,
   "metadata": {},
   "outputs": [
    {
     "name": "stdout",
     "output_type": "stream",
     "text": [
      "1\n",
      "3\n",
      "5\n",
      "7\n",
      "9\n"
     ]
    }
   ],
   "source": [
    "for i in range(10):\n",
    "    if not i % 2 == 0:\n",
    "        print(i)"
   ]
  },
  {
   "cell_type": "markdown",
   "metadata": {},
   "source": [
    "如果列表中包含偶数个元素，打印第一个元素"
   ]
  },
  {
   "cell_type": "code",
   "execution_count": 3,
   "metadata": {},
   "outputs": [
    {
     "name": "stdout",
     "output_type": "stream",
     "text": [
      "1\n"
     ]
    }
   ],
   "source": [
    "list = [1,2,3,4]\n",
    "if len(list) % 2 == 0:\n",
    "    print(list[0])"
   ]
  },
  {
   "cell_type": "markdown",
   "metadata": {},
   "source": [
    "列表中插入元素"
   ]
  },
  {
   "cell_type": "code",
   "execution_count": 4,
   "metadata": {},
   "outputs": [
    {
     "name": "stdout",
     "output_type": "stream",
     "text": [
      "y\n"
     ]
    }
   ],
   "source": [
    "letters = ['x','y','z']\n",
    "letters.insert(1,'w')\n",
    "print(letters[2])"
   ]
  },
  {
   "cell_type": "code",
   "execution_count": null,
   "metadata": {
    "collapsed": true
   },
   "outputs": [],
   "source": []
  }
 ],
 "metadata": {
  "kernelspec": {
   "display_name": "Python 3",
   "language": "python",
   "name": "python3"
  },
  "language_info": {
   "codemirror_mode": {
    "name": "ipython",
    "version": 3
   },
   "file_extension": ".py",
   "mimetype": "text/x-python",
   "name": "python",
   "nbconvert_exporter": "python",
   "pygments_lexer": "ipython3",
   "version": "3.6.1"
  }
 },
 "nbformat": 4,
 "nbformat_minor": 2
}
