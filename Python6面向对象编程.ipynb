{
 "cells": [
  {
   "cell_type": "markdown",
   "metadata": {},
   "source": [
    "# Python 面向对象编程\n"
   ]
  },
  {
   "cell_type": "markdown",
   "metadata": {},
   "source": [
    "## 类\n",
    "我们先前看过两种编程模式**命名式**（使用语句，循环和函数）和**函数式**（使用纯函数，高阶函数和递归）。  \n",
    "另一个非常流行的范例是**面向对象编程（OOP）**  \n",
    "对象是使用类来创建的，而这些类实际上是OOP的模具    \n",
    "这个类描述了这个对象是什么，但是和对象本身是分开的。 换句话说，一个类可以被描述为一个对象的蓝图，描述或定义。  \n",
    "可以使用相同的类作为创建多个不同对象的蓝图  \n",
    "类是使用关键字**class**和一个包含类方法的缩进块创建的"
   ]
  },
  {
   "cell_type": "code",
   "execution_count": 2,
   "metadata": {},
   "outputs": [],
   "source": [
    "# 一个简单的class和它的对象的例子\n",
    "class Cat:        # 定义一个名为Cat的类,它有两个属性：color和legs\n",
    "    def __init__(self, color, legs):\n",
    "        self.color = color\n",
    "        self.legs = legs\n",
    "        \n",
    "felix = Cat('ginger', 4)     # 然后这个类被用来创建这个类的3个独立的对象\n",
    "rover = Cat('dog-colored', 4)\n",
    "stumpy = Cat('brown', 3)"
   ]
  },
  {
   "cell_type": "markdown",
   "metadata": {},
   "source": [
    "#### Function类型的对象是一种方法"
   ]
  },
  {
   "cell_type": "markdown",
   "metadata": {},
   "source": [
    "## \\__init\\__:类构造函数\n",
    "\\__init\\__ 方法是一个类中最重要的方法，通过接受参数并将它们分配给对象的属性  \n",
    "这是在创建的实例（对象）时使用类名称作为函数调用的  \n",
    "所有的方法都必须以**self**作为自己的第一个参数，虽然它没有被明确地传递，但是Python为自己添加了自变量；  \n",
    "在调用方法时，不需要包含它。在一个方法定义中，**self**指的是调用该方法的实例  \n",
    "类的实例具有属性，这些属性是与它们相关联的数据片段  \n",
    "在这个，例子中，Cat实例具有属性 color 和 legs 。这些可以通过在一个实例之后加一个点和属性名来访问。  \n",
    "在\\__init\\__方法中，可以使用 self.attribute 来设置实例属性的初始值"
   ]
  },
  {
   "cell_type": "code",
   "execution_count": 3,
   "metadata": {},
   "outputs": [
    {
     "name": "stdout",
     "output_type": "stream",
     "text": [
      "ginger\n"
     ]
    }
   ],
   "source": [
    "class Cat:\n",
    "    def __init__(self, color, legs):\n",
    "        self.color = color\n",
    "        self.legs = legs\n",
    "        \n",
    "felix = Cat('ginger', 4) # 通过类构造函数__init__将两个参数分配给对象属性\n",
    "print(felix.color)"
   ]
  },
  {
   "cell_type": "code",
   "execution_count": 5,
   "metadata": {},
   "outputs": [
    {
     "name": "stdout",
     "output_type": "stream",
     "text": [
      "Loen\n"
     ]
    }
   ],
   "source": [
    "# 创建一个类和它的构造函数，去一个参数并复制给‘name’属性，\n",
    "# 然后创建一个类的对象\n",
    "class Student:\n",
    "    def __init__(self, name):\n",
    "        self.name = name\n",
    "        \n",
    "test = Student('Loen')\n",
    "print(test.name)"
   ]
  },
  {
   "cell_type": "markdown",
   "metadata": {},
   "source": [
    "## 方法\n",
    "类可以定义其他方法来为其添加功能，所有的方法必须有**self**作为它们的第一个参数  \n",
    "这些方法使用与属性相同的点语法进行访问"
   ]
  },
  {
   "cell_type": "code",
   "execution_count": 6,
   "metadata": {},
   "outputs": [
    {
     "name": "stdout",
     "output_type": "stream",
     "text": [
      "Fido\n",
      "woof!\n"
     ]
    }
   ],
   "source": [
    "class Dog:\n",
    "    def __init__(self, name, color):\n",
    "        self.name = name\n",
    "        self.color = color\n",
    "    \n",
    "    def bark(self):\n",
    "        print('woof!')\n",
    "        \n",
    "fido = Dog('Fido', 'brown')\n",
    "print(fido.name)\n",
    "fido.bark()"
   ]
  },
  {
   "cell_type": "markdown",
   "metadata": {},
   "source": [
    "类还可以具有通过在类的主体内分配变量而创建的类属性。这些可以从类的实例或类本身访问"
   ]
  },
  {
   "cell_type": "code",
   "execution_count": 7,
   "metadata": {},
   "outputs": [
    {
     "name": "stdout",
     "output_type": "stream",
     "text": [
      "4\n",
      "4\n"
     ]
    }
   ],
   "source": [
    "class Dog:\n",
    "    legs = 4   # 在类主体内分配变量创建的雷类属性\n",
    "    def __init__(self, name, color):\n",
    "        self.name = name\n",
    "        self.color = color\n",
    "    \n",
    "fido = Dog('Fido', 'brown')\n",
    "print(fido.legs) # 可以从类的实例访问\n",
    "print(Dog.legs)  # 或类本身访问\n",
    "\n",
    "# 类属性由类的所有实例共享"
   ]
  },
  {
   "cell_type": "code",
   "execution_count": 10,
   "metadata": {},
   "outputs": [
    {
     "name": "stdout",
     "output_type": "stream",
     "text": [
      "Hi from Loen\n"
     ]
    }
   ],
   "source": [
    "# 创建sayHi()方法\n",
    "class Student:\n",
    "    def __init__(self, name):\n",
    "        self.name = name\n",
    "        \n",
    "    def sayHi(self):\n",
    "        print('Hi from ' + self.name)\n",
    "        \n",
    "s1 = Student('Loen')\n",
    "s1.sayHi()"
   ]
  },
  {
   "cell_type": "code",
   "execution_count": 11,
   "metadata": {},
   "outputs": [
    {
     "ename": "AttributeError",
     "evalue": "'Rectangle' object has no attribute 'color'",
     "output_type": "error",
     "traceback": [
      "\u001b[1;31m---------------------------------------------------------------------------\u001b[0m",
      "\u001b[1;31mAttributeError\u001b[0m                            Traceback (most recent call last)",
      "\u001b[1;32m<ipython-input-11-9a28c9e8df6a>\u001b[0m in \u001b[0;36m<module>\u001b[1;34m()\u001b[0m\n\u001b[0;32m      7\u001b[0m \u001b[1;33m\u001b[0m\u001b[0m\n\u001b[0;32m      8\u001b[0m \u001b[0mrect\u001b[0m \u001b[1;33m=\u001b[0m \u001b[0mRectangle\u001b[0m\u001b[1;33m(\u001b[0m\u001b[1;36m7\u001b[0m\u001b[1;33m,\u001b[0m \u001b[1;36m8\u001b[0m\u001b[1;33m)\u001b[0m\u001b[1;33m\u001b[0m\u001b[0m\n\u001b[1;32m----> 9\u001b[1;33m \u001b[0mprint\u001b[0m\u001b[1;33m(\u001b[0m\u001b[0mrect\u001b[0m\u001b[1;33m.\u001b[0m\u001b[0mcolor\u001b[0m\u001b[1;33m)\u001b[0m \u001b[1;31m# 尝试调用一个未定义的方法\u001b[0m\u001b[1;33m\u001b[0m\u001b[0m\n\u001b[0m",
      "\u001b[1;31mAttributeError\u001b[0m: 'Rectangle' object has no attribute 'color'"
     ]
    }
   ],
   "source": [
    "# 尝试访问未定义的实例属性会导致AttributeError\n",
    "# 尝试调用未定义的方法也会导致AttributeError\n",
    "class Rectangle:\n",
    "    def __init__(self, width, height):\n",
    "        self.width = width\n",
    "        self.height = height\n",
    "        \n",
    "rect = Rectangle(7, 8)\n",
    "print(rect.color) # 尝试调用一个未定义的属性"
   ]
  },
  {
   "cell_type": "markdown",
   "metadata": {},
   "source": [
    "##  继承\n",
    "**继承** 提供了一种在类之间共享功能的方法  \n",
    "想象几个类，Cat, Dog, Rabbit等，虽然它们在某些方面可能有所不同（只要Dog可能有bark方法），但是它们可能在其他方面相似（都具有color和name的属性）  \n",
    "这种相似性可以通过使它们全部从包含共享的超类Animal中继承来表示  \n",
    "要从另一个类继承一个类，请将超类名放在类名后面的括号中。"
   ]
  },
  {
   "cell_type": "code",
   "execution_count": 12,
   "metadata": {},
   "outputs": [
    {
     "name": "stdout",
     "output_type": "stream",
     "text": [
      "brown\n",
      "woof!\n"
     ]
    }
   ],
   "source": [
    "# 超类（被继承的类）\n",
    "class Animal:\n",
    "    def __init__(self, name, color):\n",
    "        self.name = name\n",
    "        self.color = color\n",
    "        \n",
    "# 子类（从一个类继承的类）\n",
    "class Cat(Animal): # 超类名放在类名的括号中\n",
    "    def purr(self):\n",
    "        print('Purr...')\n",
    "\n",
    "# 子类\n",
    "class Dog(Animal):\n",
    "    def bark(self):\n",
    "        print('woof!')\n",
    "\n",
    "fido = Dog('Fido', 'brown')\n",
    "print(fido.color)\n",
    "fido.bark()"
   ]
  },
  {
   "cell_type": "markdown",
   "metadata": {},
   "source": [
    "如果一个类继承了另一个具有相同属性或方法的类,它的属性和方法将**覆盖**它们"
   ]
  },
  {
   "cell_type": "code",
   "execution_count": 14,
   "metadata": {},
   "outputs": [
    {
     "name": "stdout",
     "output_type": "stream",
     "text": [
      "Woof\n"
     ]
    }
   ],
   "source": [
    "# 超类\n",
    "class Wolf:\n",
    "    def __init__(self, name, color):\n",
    "        self.name = name\n",
    "        self.color = color\n",
    "    \n",
    "    def bark(self):\n",
    "        print('Grr ...')\n",
    "        \n",
    "# 子类\n",
    "class Dog(Wolf):\n",
    "    def bark(self):   \n",
    "        print('Woof')\n",
    "        \n",
    "husky = Dog('Max', 'grey')\n",
    "husky.bark()     # 子类中的bark将要覆盖超类中的bark方法"
   ]
  },
  {
   "cell_type": "markdown",
   "metadata": {},
   "source": [
    "继承也可以是间接的。一个类B继承类A，而类C也可以继承类B，但是**不允许循环继承**"
   ]
  },
  {
   "cell_type": "code",
   "execution_count": 15,
   "metadata": {},
   "outputs": [
    {
     "name": "stdout",
     "output_type": "stream",
     "text": [
      "A method\n",
      "B method\n",
      "C method\n"
     ]
    }
   ],
   "source": [
    "class A:\n",
    "    def method(self):\n",
    "        print('A method')\n",
    "\n",
    "class B(A):\n",
    "    def another_method(self):\n",
    "        print(\"B method\")\n",
    "        \n",
    "class C(B):\n",
    "    def third_method(self):\n",
    "        print('C method')\n",
    "        \n",
    "c = C()\n",
    "c.method()\n",
    "c.another_method()\n",
    "c.third_method()"
   ]
  },
  {
   "cell_type": "code",
   "execution_count": 18,
   "metadata": {},
   "outputs": [
    {
     "name": "stdout",
     "output_type": "stream",
     "text": [
      "2\n"
     ]
    }
   ],
   "source": [
    "class A:\n",
    "    def a(self):\n",
    "        print(1)\n",
    "class B(A):\n",
    "    def a(self):\n",
    "        print(2)\n",
    "class C(B):\n",
    "    def c(self):\n",
    "        print(3)\n",
    "c = C()\n",
    "c.a()   # 类B中的方法覆盖了它所继承的类A中的方法"
   ]
  },
  {
   "cell_type": "markdown",
   "metadata": {},
   "source": [
    "**super**函数是一个与父类继承相关的函数。它可以用来在对象的超类中找到具有特定名称的方法"
   ]
  },
  {
   "cell_type": "code",
   "execution_count": 20,
   "metadata": {},
   "outputs": [
    {
     "name": "stdout",
     "output_type": "stream",
     "text": [
      "2\n",
      "1\n"
     ]
    }
   ],
   "source": [
    "class A:\n",
    "    def spam(self):\n",
    "        print(1)\n",
    "        \n",
    "class B(A):\n",
    "    def spam(self):\n",
    "        print(2)\n",
    "        super().spam()  # 调用超类的spam方法\n",
    "        \n",
    "B().spam()"
   ]
  },
  {
   "cell_type": "markdown",
   "metadata": {},
   "source": [
    "## 魔术方法\n",
    "**魔术方法**是在名称的开始和结尾都有双下划线的特殊方法，也被称为dunders  \n",
    "到目前为止我们唯一遇到的是\\__init\\__，但是还有其他几个。  \n",
    "它们被用来创建不能用普通方法表示的功能，一个常见的用途是**运算符重载** \n",
    "这意味着为自定义类定义运算符，允许使用+和*等运算符  \n"
   ]
  },
  {
   "cell_type": "code",
   "execution_count": 24,
   "metadata": {},
   "outputs": [
    {
     "name": "stdout",
     "output_type": "stream",
     "text": [
      "8\n",
      "16\n"
     ]
    }
   ],
   "source": [
    "# 魔术方法__add__重载+\n",
    "class Vector2D:\n",
    "    def __init__(self, x, y):\n",
    "        self.x = x\n",
    "        self.y = y\n",
    "    def __add__(self, other):  # __add__方法允许类中的+运算符定义自定义行为\n",
    "        return Vector2D(self.x + other.x , self.y + other.y)\n",
    "    \n",
    "first = Vector2D(5, 7)\n",
    "second = Vector2D(3, 9)\n",
    "result = first + second  # 它添加了对象的相应属性并返回一个包含结果的新对象 \n",
    "print(result.x)\n",
    "print(result.y)"
   ]
  },
  {
   "cell_type": "markdown",
   "metadata": {},
   "source": [
    "### 创建实例的魔术方法是： \\__init\\__"
   ]
  },
  {
   "cell_type": "markdown",
   "metadata": {},
   "source": [
    "## 常见的魔术方法：\n",
    "**\\__sub\\__** 对应 -  \n",
    "**\\__mul\\__** 对应 \\*  \n",
    "**\\__truediv\\__** 对应 /  \n",
    "**\\__floordiv\\__** 对应 //    \n",
    "**\\__mod\\__** 对应 %    \n",
    "**\\__pow\\__** 对应 \\*\\*  \n",
    "**\\__and\\__** 对应 &  \n",
    "**\\__xor\\__** 对应 ^    \n",
    "**\\__or\\__** 对应 |  \n",
    "注：名称前后是双下划线"
   ]
  },
  {
   "cell_type": "markdown",
   "metadata": {},
   "source": [
    "表达式 x + y 被翻译为 x.\\__add\\__(y)。  \n",
    "然而，如果 x 没有实现 \\__add\\__，并且 x 和 y 的类型不同则调用 y.\\__radd\\__(x)。  \n",
    "对于刚刚提到的所有魔术方法，都有等价的方法。"
   ]
  },
  {
   "cell_type": "code",
   "execution_count": 26,
   "metadata": {},
   "outputs": [
    {
     "name": "stdout",
     "output_type": "stream",
     "text": [
      "spam\n",
      "============\n",
      "Hello world!\n"
     ]
    }
   ],
   "source": [
    "class SpecialString:\n",
    "    def __init__(self, cont):\n",
    "        self.cont = cont\n",
    "        \n",
    "    def __truediv__(self, other):  # 我们为类SpecialString定义了除法操作\n",
    "        line = '=' * len(other.cont)\n",
    "        return '\\n'.join([self.cont, line, other.cont])\n",
    "\n",
    "spam = SpecialString('spam')\n",
    "hello = SpecialString('Hello world!')\n",
    "print(spam/hello)"
   ]
  },
  {
   "cell_type": "markdown",
   "metadata": {},
   "source": [
    "如果A没有实现任何魔术方法，那么A()^B()可以编写为：B().\\__rxor\\__(A())"
   ]
  },
  {
   "cell_type": "markdown",
   "metadata": {},
   "source": [
    "## 魔术方法\n",
    "Python也为比较运算提供了魔术方法。  \n",
    "**\\__lt\\__** 对应 <  \n",
    "**\\__le\\__** 对应 <=  \n",
    "**\\__eq\\__** 对应 ==  \n",
    "**\\__ne\\__** 对应 !=  \n",
    "**\\__gt\\__** 对应 >  \n",
    "**\\__ge\\__** 对应 >=  \n",
    "如果 \\__ne\\__ 没有被实现，它将返回\\__eq\\__相反的结果。  \n",
    "其他比较运算符之间没有其他关系  "
   ]
  },
  {
   "cell_type": "code",
   "execution_count": 29,
   "metadata": {},
   "outputs": [
    {
     "name": "stdout",
     "output_type": "stream",
     "text": [
      ">spam>eggs\n",
      "e>spam>ggs\n",
      "eg>spam>gs\n",
      "egg>spam>s\n",
      "eggs>spam>\n"
     ]
    }
   ],
   "source": [
    "# 重载操作符定义任何自定义行为\n",
    "class SpecialString:\n",
    "    def __init__(self, cont):\n",
    "        self.cont = cont\n",
    "        \n",
    "    def __gt__(self, other):\n",
    "        for index in range(len(other.cont)+1):\n",
    "            result = other.cont[:index] + '>' +self.cont\n",
    "            result += '>' + other.cont[index:]\n",
    "            print(result)\n",
    "            \n",
    "spam = SpecialString('spam')\n",
    "eggs = SpecialString('eggs')\n",
    "spam > eggs"
   ]
  },
  {
   "cell_type": "markdown",
   "metadata": {},
   "source": [
    "#### 几个神奇的方法使类像容器一样行事\n",
    "**\\__len\\__** 对应 len()  \n",
    "**\\__getitem\\__** 对应 获取索引  \n",
    "**\\__setitem\\__** 对应 分配索引值  \n",
    "**\\__delitem\\__** 对应 删除索引值  \n",
    "**\\__iter\\__** 对应迭代对象（例如for循环）  \n",
    "**\\__contains\\__**对应 in  \n",
    "嗨哟很多其他的魔术方法，我们并不会在这里介绍，比如将\\__call\\__作为函数调用对象， \\__init\\__，\\__str\\__等等，将对象转换为内建类型"
   ]
  },
  {
   "cell_type": "code",
   "execution_count": 31,
   "metadata": {},
   "outputs": [
    {
     "name": "stdout",
     "output_type": "stream",
     "text": [
      "9\n",
      "10\n",
      "D\n",
      "B\n"
     ]
    }
   ],
   "source": [
    "import random\n",
    "\n",
    "class VagueList:\n",
    "    def __init__(self, cont):\n",
    "        self.cont = cont\n",
    "        \n",
    "    def __getitem__(self, index):  # 索引函数根据表达式返回一个范围内的随机项\n",
    "        return self.cont[index + random.randint(-1, 1)]\n",
    "    \n",
    "    def __len__(self):  # 重写了类VagueList的len()函数来返回一个随机数\n",
    "        return random.randint(0, len(self.cont)*2)\n",
    "    \n",
    "vague_list = VagueList(['A', 'B', 'C', 'D', 'E'])\n",
    "print(len(vague_list))\n",
    "print(len(vague_list))\n",
    "print(vague_list[2])\n",
    "print(vague_list[2])"
   ]
  },
  {
   "cell_type": "markdown",
   "metadata": {
    "collapsed": true
   },
   "source": [
    "## 对象生命周期\n",
    "对象生命周期由对象的**创建，操作和销毁**三个部分组成  \n",
    "第一阶段是它所属的类的**定义**  \n",
    "下一个阶段是调用\\__init\\__时实例的**实例化**。内存被分配来存储实例  \n",
    "在调用**\\__init\\__**方法之前，Python首先调用**\\__new\\__**方法  \n",
    "这之后，对象就可以使用了"
   ]
  },
  {
   "cell_type": "markdown",
   "metadata": {},
   "source": [
    "其他代码则可以通过调用对象和访问其属性来与对象交互  \n",
    "最终，对象完成使用，并可以被**销毁**"
   ]
  },
  {
   "cell_type": "markdown",
   "metadata": {},
   "source": [
    "当一个对象被**销毁**时，分配给它的内存被释放，并可以用于其他目的。  \n",
    "当引用计数达到零时，就会发生对象的破坏。引用计数是引用一个对象的变量和其他元素的数量  \n",
    "如果什么都没有引用它（它的引用计数为零），什么都不能与它交互，所以它可以安全地删除  \n",
    "在某些情况下，两个（或更多）对象只能被彼此引用，因此也可以被删除。  \n",
    "**del**语句会将对象的引用计数减少一个，这通常会导致删除  \n",
    "del 语句的魔术方法是\\__del\\__  \n",
    "不再需要的对象删除过程称为垃圾收集  \n",
    "总之，当一个对象的引用计数被分配一个新名字或者放在一个容器（列表、元组或字典）中时，它的引用计数会增加  \n",
    "当用del 删除对象的引用计数时，它的引用计数会减少，引用被重新分配或引用超出作用域，当一个对象的引用计数达到零时，Python会自动删除它  "
   ]
  },
  {
   "cell_type": "code",
   "execution_count": 40,
   "metadata": {
    "collapsed": true
   },
   "outputs": [],
   "source": [
    "# 例如\n",
    "a = 42  # Create object <42>\n",
    "b = a   # Increase ref. count of <42>\n",
    "c = [a] # Increase ref. count of <42>\n",
    "\n",
    "del a   # Decrease ref. count of <42>\n",
    "b = 100 # Decrease ref. count of <42>\n",
    "c[0] = -1 # Decrease ref. count of <42>\n",
    "\n",
    "# 像C这样的低级语言没有这种自动内存管理"
   ]
  },
  {
   "cell_type": "markdown",
   "metadata": {},
   "source": [
    "## 数据隐藏\n",
    "面向对象编程的一个关键部分是封装，它涉及将相关的变量和函数打包到一个简单容易用的对象中--一个类的实例。  \n",
    "一个相关的概念是**数据隐藏**，它指出一个类的实现细节应该被隐藏，并且为那些想要使用这个类的用户提供一个干净的标准接口  \n",
    "在其他编程语言中，这通常使用私有方法和属性来完成，这些私有方法和属性阻止对类中某些方法和属性的外部访问  \n",
    "Python略有不同，不应该对任何一个阶级的部分进行任意的限制。因此，没有办法强制一个方法或属性是严格私密的。  \n"
   ]
  },
  {
   "cell_type": "markdown",
   "metadata": {},
   "source": [
    "Python中的私有方法：不鼓励外部代码调用的方法"
   ]
  },
  {
   "cell_type": "markdown",
   "metadata": {},
   "source": [
    "弱的私有方法和属性在开头只有**一个下划线**  \n",
    "这表示它们是私有的，不应该被外部代码使用。但是，它大多数只是一个约定，并不会阻止外部代码访问它们。  \n",
    "它唯一的实际效果是从 module_name导入 * 不会导入以单个下划线开头的变量"
   ]
  },
  {
   "cell_type": "code",
   "execution_count": 42,
   "metadata": {},
   "outputs": [
    {
     "name": "stdout",
     "output_type": "stream",
     "text": [
      "Queue([1, 2, 3])\n",
      "Queue([0, 1, 2, 3])\n",
      "Queue([0, 1, 2])\n",
      "[0, 1, 2]\n"
     ]
    }
   ],
   "source": [
    "class Queue:\n",
    "    def __init__(self, contents):\n",
    "        self._hiddenlist = list(contents) \n",
    "        \n",
    "    def push(self, value):\n",
    "        self._hiddenlist.insert(0, value)\n",
    "        \n",
    "    def pop(self):\n",
    "        return self._hiddenlist.pop(-1)\n",
    "    \n",
    "    def __repr__(self): # 魔术方法用于实例的字符串表示。\n",
    "        return 'Queue({})'.format(self._hiddenlist)\n",
    "    \n",
    "queue = Queue([1, 2, 3])\n",
    "print(queue)\n",
    "queue.push(0)\n",
    "print(queue)\n",
    "queue.pop()\n",
    "print(queue)\n",
    "print(queue._hiddenlist) # 属性被标记为私有的，但仍然可以在外部代码中访问"
   ]
  },
  {
   "cell_type": "markdown",
   "metadata": {},
   "source": [
    "强烈的私有方法和属性在名称的开始处有一个**双下划线**。这导致他们的名字错位，这意味着它们不能从类外访问  \n",
    "这样做的目的不是确保它们保持私有，而是为了避免错误，如果存在具有相同名称的方法或属性的子类时  \n",
    "名称 错位 方法仍然可以在外部访问，但是以不同的名称访问。Spam类的 \\__private 方法可以通过 _Spam\\__private 方法外部访问"
   ]
  },
  {
   "cell_type": "code",
   "execution_count": 44,
   "metadata": {},
   "outputs": [
    {
     "name": "stdout",
     "output_type": "stream",
     "text": [
      "7\n",
      "7\n"
     ]
    },
    {
     "ename": "AttributeError",
     "evalue": "'Spam' object has no attribute '__egg'",
     "output_type": "error",
     "traceback": [
      "\u001b[1;31m---------------------------------------------------------------------------\u001b[0m",
      "\u001b[1;31mAttributeError\u001b[0m                            Traceback (most recent call last)",
      "\u001b[1;32m<ipython-input-44-6635c8029f40>\u001b[0m in \u001b[0;36m<module>\u001b[1;34m()\u001b[0m\n\u001b[0;32m      6\u001b[0m \u001b[0ms\u001b[0m\u001b[1;33m.\u001b[0m\u001b[0mprint_egg\u001b[0m\u001b[1;33m(\u001b[0m\u001b[1;33m)\u001b[0m\u001b[1;33m\u001b[0m\u001b[0m\n\u001b[0;32m      7\u001b[0m \u001b[0mprint\u001b[0m\u001b[1;33m(\u001b[0m\u001b[0ms\u001b[0m\u001b[1;33m.\u001b[0m\u001b[0m_Spam__egg\u001b[0m\u001b[1;33m)\u001b[0m\u001b[1;33m\u001b[0m\u001b[0m\n\u001b[1;32m----> 8\u001b[1;33m \u001b[0mprint\u001b[0m\u001b[1;33m(\u001b[0m\u001b[0ms\u001b[0m\u001b[1;33m.\u001b[0m\u001b[0m__egg\u001b[0m\u001b[1;33m)\u001b[0m  \u001b[1;31m# AttributeError: 'Spam' object has no attribute '__egg'\u001b[0m\u001b[1;33m\u001b[0m\u001b[0m\n\u001b[0m",
      "\u001b[1;31mAttributeError\u001b[0m: 'Spam' object has no attribute '__egg'"
     ]
    }
   ],
   "source": [
    "class Spam:\n",
    "    __egg = 7\n",
    "    def print_egg(self):\n",
    "        print(self.__egg)\n",
    "s = Spam()\n",
    "s.print_egg()\n",
    "print(s._Spam__egg)\n",
    "print(s.__egg)  # AttributeError: 'Spam' object has no attribute '__egg'"
   ]
  },
  {
   "cell_type": "markdown",
   "metadata": {},
   "source": [
    "基本上，Python通过内部更改名称来包含类名来保护这些成员"
   ]
  },
  {
   "cell_type": "markdown",
   "metadata": {},
   "source": [
    "## 类方法\n",
    "到目前为止，我们所看到的对象的方法被一个类的实例所调用，然后被传递给方法的**self**参数  \n",
    "类方法是不同的，它们被一个类所调用，它被传递给方法的**cls**参数  \n",
    "这些常用的工厂方法是使用与通常传递给类构造函数的参数不同的参数来实例化类的实例  \n",
    "类方法用**classmethod** 装饰器标记"
   ]
  },
  {
   "cell_type": "code",
   "execution_count": 46,
   "metadata": {},
   "outputs": [
    {
     "name": "stdout",
     "output_type": "stream",
     "text": [
      "25\n"
     ]
    }
   ],
   "source": [
    "class Rectangle:\n",
    "    def __init__(self, width, height):\n",
    "        self.width = width\n",
    "        self.height = height\n",
    "        \n",
    "    def calculate_area(self):\n",
    "        return self.width * self.height\n",
    "\n",
    "    @classmethod\n",
    "    def new_square(cls, side_length):\n",
    "        return cls(side_length, side_length)\n",
    "\n",
    "# new_square 是一个类方法，在类上调用，而不是在类的实例上调用。\n",
    "# 它返回类 cls 的新对象。    \n",
    "    \n",
    "\n",
    "square = Rectangle.new_square(5)\n",
    "print(square.calculate_area())"
   ]
  },
  {
   "cell_type": "markdown",
   "metadata": {},
   "source": [
    "从技术上说，参数self和cls只是惯例；它们可以改变为其他任何东西。然而，它们是普遍被遵循的，所以坚持使用它们是明智的。"
   ]
  },
  {
   "cell_type": "code",
   "execution_count": 48,
   "metadata": {
    "collapsed": true
   },
   "outputs": [],
   "source": [
    "# 定义一个类的方法sayHi()\n",
    "class Person:\n",
    "    def __init__(self, name):\n",
    "        self.name = name\n",
    "        \n",
    "@classmethod\n",
    "def sayHi(cls):\n",
    "    print('Hi')"
   ]
  },
  {
   "cell_type": "markdown",
   "metadata": {},
   "source": [
    "## 静态方法\n",
    "静态方法与类方法类似，只是它们没有收到任何额外的参数  \n",
    "它们用**staticmenthod**装饰器标记  "
   ]
  },
  {
   "cell_type": "code",
   "execution_count": 50,
   "metadata": {},
   "outputs": [],
   "source": [
    "class Pizza:\n",
    "    def __init__(self, toppings):\n",
    "        self.toppings = toppings\n",
    "        \n",
    "    @staticmethod\n",
    "    def validate_topping(topping):\n",
    "        if topping == 'pineapple':\n",
    "            raise ValueError('No pineapples!')\n",
    "        else:\n",
    "            return True\n",
    "\n",
    "ingredients = ['cheese', 'onions', 'spam']\n",
    "if all(Pizza.validate_topping(i) for i in ingredients):\n",
    "    pizza = Pizza(ingredients)"
   ]
  },
  {
   "cell_type": "markdown",
   "metadata": {},
   "source": [
    "除了可以从类的一个实例调用它们之外，静态方法的 行为与纯函数类似"
   ]
  },
  {
   "cell_type": "markdown",
   "metadata": {},
   "source": [
    "## 属性\n",
    "**属性**提供了一种定义实例属性访问的方法  \n",
    "它们是通过降属性装饰器放在一个方法上面创建的，这意味着当访问与方法同名的实例属性时，方法将被调用。  \n",
    "属性的一种常见用法是使属性为只读"
   ]
  },
  {
   "cell_type": "code",
   "execution_count": 51,
   "metadata": {},
   "outputs": [
    {
     "name": "stdout",
     "output_type": "stream",
     "text": [
      "False\n"
     ]
    },
    {
     "ename": "AttributeError",
     "evalue": "can't set attribute",
     "output_type": "error",
     "traceback": [
      "\u001b[1;31m---------------------------------------------------------------------------\u001b[0m",
      "\u001b[1;31mAttributeError\u001b[0m                            Traceback (most recent call last)",
      "\u001b[1;32m<ipython-input-51-946f97bd838d>\u001b[0m in \u001b[0;36m<module>\u001b[1;34m()\u001b[0m\n\u001b[0;32m      8\u001b[0m \u001b[0mpizza\u001b[0m \u001b[1;33m=\u001b[0m \u001b[0mPizza\u001b[0m\u001b[1;33m(\u001b[0m\u001b[1;33m[\u001b[0m\u001b[1;34m'cheese'\u001b[0m\u001b[1;33m,\u001b[0m \u001b[1;34m'tomato'\u001b[0m\u001b[1;33m]\u001b[0m\u001b[1;33m)\u001b[0m\u001b[1;33m\u001b[0m\u001b[0m\n\u001b[0;32m      9\u001b[0m \u001b[0mprint\u001b[0m\u001b[1;33m(\u001b[0m\u001b[0mpizza\u001b[0m\u001b[1;33m.\u001b[0m\u001b[0mpineapple_allowed\u001b[0m\u001b[1;33m)\u001b[0m\u001b[1;33m\u001b[0m\u001b[0m\n\u001b[1;32m---> 10\u001b[1;33m \u001b[0mpizza\u001b[0m\u001b[1;33m.\u001b[0m\u001b[0mpineapple_allowed\u001b[0m \u001b[1;33m=\u001b[0m \u001b[1;32mTrue\u001b[0m\u001b[1;33m\u001b[0m\u001b[0m\n\u001b[0m",
      "\u001b[1;31mAttributeError\u001b[0m: can't set attribute"
     ]
    }
   ],
   "source": [
    "class Pizza:\n",
    "    def __init__(self, toppings):\n",
    "        self.toppings = toppings\n",
    "        \n",
    "    @property\n",
    "    def pineapple_allowed(self):\n",
    "        return False\n",
    "pizza = Pizza(['cheese', 'tomato'])\n",
    "print(pizza.pineapple_allowed)\n",
    "pizza.pineapple_allowed = True"
   ]
  },
  {
   "cell_type": "markdown",
   "metadata": {},
   "source": [
    "属性也可以通过定义 setter/getter 函数来设置。  \n",
    "setter 函数设置相应的属性值。  \n",
    "getter 获取相应的属性值。  \n",
    "要定义一个 setter，你需要使用一个与属性相同名字的装饰器，后面跟着一个点和 setter 关键字。  \n",
    "这同样适用于定义 getter 函数。  "
   ]
  },
  {
   "cell_type": "code",
   "execution_count": 54,
   "metadata": {},
   "outputs": [
    {
     "name": "stdout",
     "output_type": "stream",
     "text": [
      "False\n",
      "Enter the password: a\n"
     ]
    },
    {
     "ename": "ValueError",
     "evalue": "Alert! Intruder!",
     "output_type": "error",
     "traceback": [
      "\u001b[1;31m---------------------------------------------------------------------------\u001b[0m",
      "\u001b[1;31mValueError\u001b[0m                                Traceback (most recent call last)",
      "\u001b[1;32m<ipython-input-54-a252db9fd782>\u001b[0m in \u001b[0;36m<module>\u001b[1;34m()\u001b[0m\n\u001b[0;32m     19\u001b[0m \u001b[0mpizza\u001b[0m \u001b[1;33m=\u001b[0m \u001b[0mPizza\u001b[0m\u001b[1;33m(\u001b[0m\u001b[1;33m[\u001b[0m\u001b[1;34m\"cheese\"\u001b[0m\u001b[1;33m,\u001b[0m \u001b[1;34m\"tomato\"\u001b[0m\u001b[1;33m]\u001b[0m\u001b[1;33m)\u001b[0m\u001b[1;33m\u001b[0m\u001b[0m\n\u001b[0;32m     20\u001b[0m \u001b[0mprint\u001b[0m\u001b[1;33m(\u001b[0m\u001b[0mpizza\u001b[0m\u001b[1;33m.\u001b[0m\u001b[0mpineapple_allowed\u001b[0m\u001b[1;33m)\u001b[0m\u001b[1;33m\u001b[0m\u001b[0m\n\u001b[1;32m---> 21\u001b[1;33m \u001b[0mpizza\u001b[0m\u001b[1;33m.\u001b[0m\u001b[0mpineapple_allowed\u001b[0m \u001b[1;33m=\u001b[0m \u001b[1;32mTrue\u001b[0m\u001b[1;33m\u001b[0m\u001b[0m\n\u001b[0m\u001b[0;32m     22\u001b[0m \u001b[0mprint\u001b[0m\u001b[1;33m(\u001b[0m\u001b[0mpizza\u001b[0m\u001b[1;33m.\u001b[0m\u001b[0mpineapple_allowed\u001b[0m\u001b[1;33m)\u001b[0m\u001b[1;33m\u001b[0m\u001b[0m\n",
      "\u001b[1;32m<ipython-input-54-a252db9fd782>\u001b[0m in \u001b[0;36mpineapple_allowed\u001b[1;34m(self, value)\u001b[0m\n\u001b[0;32m     15\u001b[0m         \u001b[0mself\u001b[0m\u001b[1;33m.\u001b[0m\u001b[0m_pineapple_allowed\u001b[0m \u001b[1;33m=\u001b[0m \u001b[0mvalue\u001b[0m\u001b[1;33m\u001b[0m\u001b[0m\n\u001b[0;32m     16\u001b[0m       \u001b[1;32melse\u001b[0m\u001b[1;33m:\u001b[0m\u001b[1;33m\u001b[0m\u001b[0m\n\u001b[1;32m---> 17\u001b[1;33m         \u001b[1;32mraise\u001b[0m \u001b[0mValueError\u001b[0m\u001b[1;33m(\u001b[0m\u001b[1;34m\"Alert! Intruder!\"\u001b[0m\u001b[1;33m)\u001b[0m\u001b[1;33m\u001b[0m\u001b[0m\n\u001b[0m\u001b[0;32m     18\u001b[0m \u001b[1;33m\u001b[0m\u001b[0m\n\u001b[0;32m     19\u001b[0m \u001b[0mpizza\u001b[0m \u001b[1;33m=\u001b[0m \u001b[0mPizza\u001b[0m\u001b[1;33m(\u001b[0m\u001b[1;33m[\u001b[0m\u001b[1;34m\"cheese\"\u001b[0m\u001b[1;33m,\u001b[0m \u001b[1;34m\"tomato\"\u001b[0m\u001b[1;33m]\u001b[0m\u001b[1;33m)\u001b[0m\u001b[1;33m\u001b[0m\u001b[0m\n",
      "\u001b[1;31mValueError\u001b[0m: Alert! Intruder!"
     ]
    }
   ],
   "source": [
    "class Pizza:\n",
    "  def __init__(self, toppings):\n",
    "    self.toppings = toppings\n",
    "    self._pineapple_allowed = False\n",
    "\n",
    "  @property\n",
    "  def pineapple_allowed(self):\n",
    "    return self._pineapple_allowed\n",
    "\n",
    "  @pineapple_allowed.setter\n",
    "  def pineapple_allowed(self, value):\n",
    "    if value:\n",
    "      password = input(\"Enter the password: \")\n",
    "      if password == \"Sw0rdf1sh!\":\n",
    "        self._pineapple_allowed = value\n",
    "      else:\n",
    "        raise ValueError(\"Alert! Intruder!\")\n",
    "\n",
    "pizza = Pizza([\"cheese\", \"tomato\"])\n",
    "print(pizza.pineapple_allowed)\n",
    "pizza.pineapple_allowed = True\n",
    "print(pizza.pineapple_allowed)"
   ]
  },
  {
   "cell_type": "code",
   "execution_count": null,
   "metadata": {
    "collapsed": true
   },
   "outputs": [],
   "source": []
  },
  {
   "cell_type": "code",
   "execution_count": null,
   "metadata": {
    "collapsed": true
   },
   "outputs": [],
   "source": []
  },
  {
   "cell_type": "code",
   "execution_count": null,
   "metadata": {
    "collapsed": true
   },
   "outputs": [],
   "source": []
  }
 ],
 "metadata": {
  "kernelspec": {
   "display_name": "Python 3",
   "language": "python",
   "name": "python3"
  },
  "language_info": {
   "codemirror_mode": {
    "name": "ipython",
    "version": 3
   },
   "file_extension": ".py",
   "mimetype": "text/x-python",
   "name": "python",
   "nbconvert_exporter": "python",
   "pygments_lexer": "ipython3",
   "version": "3.6.1"
  }
 },
 "nbformat": 4,
 "nbformat_minor": 2
}
